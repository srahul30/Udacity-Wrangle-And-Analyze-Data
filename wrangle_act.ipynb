{
 "cells": [
  {
   "cell_type": "markdown",
   "metadata": {},
   "source": [
    "# Import Modules"
   ]
  },
  {
   "cell_type": "code",
   "execution_count": 1,
   "metadata": {},
   "outputs": [],
   "source": [
    "import pandas as pd\n",
    "import requests\n",
    "import tweepy\n",
    "import json\n",
    "import numpy as np\n",
    "import matplotlib.pyplot as plt"
   ]
  },
  {
   "cell_type": "markdown",
   "metadata": {},
   "source": [
    "# Gathering Data for Project\n",
    "1. twitter-archive-enhanced.csv downloaded directly from resources section\n",
    "2. image_predictions.tsv downloaded programatically\n",
    "3. Getting each tweet's retweet count and favorite (\"like\"). Any Additional data as required"
   ]
  },
  {
   "cell_type": "markdown",
   "metadata": {},
   "source": [
    "## image_Predictions.tsv file downloaded programatically"
   ]
  },
  {
   "cell_type": "code",
   "execution_count": 2,
   "metadata": {},
   "outputs": [],
   "source": [
    "# image_predictions.tsv downloaded programatically as below.\n",
    "image_predictions_url = 'https://d17h27t6h515a5.cloudfront.net/topher/2017/August/599fd2ad_image-predictions/image-predictions.tsv'\n",
    "response = requests.get(image_predictions_url)\n",
    "with open(image_predictions_url.split('/')[-1],mode='wb') as image_pred_file:\n",
    "    image_pred_file.write(response.content)"
   ]
  },
  {
   "cell_type": "markdown",
   "metadata": {},
   "source": [
    "## Created Dataframes for twitter archive and image_predictions file"
   ]
  },
  {
   "cell_type": "code",
   "execution_count": 3,
   "metadata": {},
   "outputs": [],
   "source": [
    "# Creating the Dataframes for both the file: twitter-archive-enhanced.csv and image-predictions.tsv.\n",
    "# Dataframe for twitter archive file will be used to read tweet_id for extracting data in next step.\n",
    "Archive_Dataframe = pd.read_csv('twitter-archive-enhanced.csv')\n",
    "Prediction_Dataframe = pd.read_csv('image-predictions.tsv',sep='\\t')"
   ]
  },
  {
   "cell_type": "markdown",
   "metadata": {},
   "source": [
    "## Extract data from Twitter through tweet_id in twitter_enhanced file"
   ]
  },
  {
   "cell_type": "code",
   "execution_count": 9,
   "metadata": {},
   "outputs": [
    {
     "name": "stdout",
     "output_type": "stream",
     "text": [
      "Rate limit reached. Sleeping for: 570\n",
      "Rate limit reached. Sleeping for: 646\n"
     ]
    }
   ],
   "source": [
    "# Authorising Tweeter Developers account and creating object to fetch data through JSON\n",
    "consumer_key = 'KKB3iIPm1z26JtkVk3811z1Cv'\n",
    "consumer_secret = 'hXTD37duMocS1FJj1zWXpnmDA6bJSGsDmqQeZWRRpT0dBNVmsm'\n",
    "access_token = '1241974341513822209-uJJZF7ZRObCHB4zlGAL5Mk9JXreFSq'\n",
    "access_secret = 'sdNFtDzSv1grNLCZlIMfJI1K29OpXrbp2JUuNkEBEZZkJ'\n",
    "\n",
    "auth = tweepy.OAuthHandler(consumer_key, consumer_secret)\n",
    "auth.set_access_token(access_token, access_secret)\n",
    "\n",
    "api = tweepy.API(auth,wait_on_rate_limit = True,wait_on_rate_limit_notify = True)\n",
    "\n",
    "## Running the loop to get ONLY the entire JSON data for each and every Tweeter ID's in Archive Dataframe into tweet_json.txt\n",
    "df_tweet_json = []\n",
    "df_Not_Found_tweetID = []\n",
    "\n",
    "for tweet_id in Archive_Dataframe.tweet_id:\n",
    "    try:\n",
    "        tweet = api.get_status(tweet_id, tweet_mode='extended')\n",
    "        df_tweet_json.append(tweet._json)\n",
    "    except tweepy.TweepError as e:\n",
    "        df_Not_Found_tweetID.append(tweet_id)\n",
    "\n",
    "## Formating the data retrieved in JSON format and copying into tweet_json.txt file\n",
    "format_json = []\n",
    "for tweet_json in df_tweet_json:\n",
    "    format_json.append(tweet_json)\n",
    "with open('tweet_json.txt', 'w') as file:\n",
    "        file.write(json.dumps(format_json, indent=4))\n",
    "\n",
    "\n",
    "NotFound_df = pd.DataFrame(df_Not_Found_tweetID)\n",
    "NotFound_df.to_csv('Tweet_Not_found.txt', header=None, index=None, mode='a')"
   ]
  },
  {
   "cell_type": "markdown",
   "metadata": {},
   "source": [
    "## Create Dataframe for Retweet "
   ]
  },
  {
   "cell_type": "code",
   "execution_count": 4,
   "metadata": {},
   "outputs": [],
   "source": [
    "retweet_list = []\n",
    "with open('tweet_json.txt', encoding='utf-8') as json_file:  \n",
    "    all_data = json.load(json_file)\n",
    "    \n",
    "    for json_field in all_data:\n",
    "        tweet_id = json_field['id']\n",
    "        compl_tweet = json_field['full_text']\n",
    "        https = compl_tweet[compl_tweet.find('https'):]\n",
    "        retweet_count = json_field['retweet_count']\n",
    "        favorite_count = json_field['favorite_count']\n",
    "        retweeted_status = json_field['retweeted_status'] = json_field.get('retweeted_status', 'Original tweet')\n",
    "        if retweeted_status == 'Original tweet':\n",
    "            url = https\n",
    "        else:\n",
    "            retweeted_status = 'retweet'\n",
    "            url = 'retweet'\n",
    "        \n",
    "        retweet_list.append({'tweet_id':tweet_id,\n",
    "                             'retweet_count':retweet_count,\n",
    "                             'favorite_count':favorite_count,\n",
    "                             'retweeted_status':retweeted_status,\n",
    "                             'url':url\n",
    "                            })\n",
    "        \n",
    "    retweet_Dataframe = pd.DataFrame(retweet_list, columns = ['tweet_id','retweet_count','favorite_count','retweeted_status','url'])"
   ]
  },
  {
   "cell_type": "markdown",
   "metadata": {},
   "source": [
    "# Assessing Issues\n",
    "\n",
    "## Quality Issues\n",
    "### Visual Assessment\n",
    "1. In Archive_Dataframe, drop rows having retweet_status_id\n",
    "2. In Archive_Dataframe, timestamp is of object type. It should be timestamp type.\n",
    "3. In Archive_Dataframe, source column needs to be cleaned to get the source of the twitter\n",
    "4. In Prediction_Dataframe, Greatest of all predictions with TRUE value will be taken into one column\n",
    "5. In Prediction_Dataframe, Prediction names are having _ hence remove it with space\n",
    "\n",
    "#### < As per Review Comments mentioned below>\n",
    "6. In Archive_Dataframe - tweet_id, in_reply_to_status_id, in_reply_to_user_id, retweeted_status_id, retweeted_status_user_id should be of Type Object rather int or float\n",
    "7. In Archive Dataframe - rating_numerator and rating_denominator should be float Data type and extracted correctly from spreadsheet\n",
    "8. In Archive Dataframe - dropping rows having lowercase names, still few names will come as unadvised but that is fine for now\n",
    "9. In Retweet Dataframe - retweet_count and favorite count should be int, not float\n",
    "\n",
    "### programmatic Assessment\n",
    "10. In retweet_Dataframe, remove 163 retweets\n",
    "11. In Archive_Dataframe, numerator values as 420, 143, 960, 666\n",
    "12. In Archive_Dataframe, denominator values as 11, 2, 16, 15, 7, 0\n",
    "\n",
    "#### < As per Review Comments moved below 2 points to Quality Issues from Tidiness Issues>\n",
    "13. Unwanted columns in Archival_Dataframe needs to be removed.\n",
    "14. Unwanted columns in Predictions_Dataframe need to be removed after we finalise Prediction and Confidence for each dog\n",
    "\n",
    "\n",
    "## Tidiness Issues\n",
    "1. Dog Stage / Dog Type columns should be re-structured into one columns to show the value in one.\n",
    "2. Merge all the Dataframes into one to visualise"
   ]
  },
  {
   "cell_type": "markdown",
   "metadata": {},
   "source": [
    "## Archive_Dataframe"
   ]
  },
  {
   "cell_type": "code",
   "execution_count": 5,
   "metadata": {},
   "outputs": [
    {
     "name": "stdout",
     "output_type": "stream",
     "text": [
      "<class 'pandas.core.frame.DataFrame'>\n",
      "RangeIndex: 2356 entries, 0 to 2355\n",
      "Data columns (total 17 columns):\n",
      "tweet_id                      2356 non-null int64\n",
      "in_reply_to_status_id         78 non-null float64\n",
      "in_reply_to_user_id           78 non-null float64\n",
      "timestamp                     2356 non-null object\n",
      "source                        2356 non-null object\n",
      "text                          2356 non-null object\n",
      "retweeted_status_id           181 non-null float64\n",
      "retweeted_status_user_id      181 non-null float64\n",
      "retweeted_status_timestamp    181 non-null object\n",
      "expanded_urls                 2297 non-null object\n",
      "rating_numerator              2356 non-null int64\n",
      "rating_denominator            2356 non-null int64\n",
      "name                          2356 non-null object\n",
      "doggo                         2356 non-null object\n",
      "floofer                       2356 non-null object\n",
      "pupper                        2356 non-null object\n",
      "puppo                         2356 non-null object\n",
      "dtypes: float64(4), int64(3), object(10)\n",
      "memory usage: 313.0+ KB\n"
     ]
    }
   ],
   "source": [
    "# Testing Archive_Dataframe\n",
    "Archive_Dataframe.info()"
   ]
  },
  {
   "cell_type": "code",
   "execution_count": 6,
   "metadata": {},
   "outputs": [
    {
     "data": {
      "text/html": [
       "<div>\n",
       "<style scoped>\n",
       "    .dataframe tbody tr th:only-of-type {\n",
       "        vertical-align: middle;\n",
       "    }\n",
       "\n",
       "    .dataframe tbody tr th {\n",
       "        vertical-align: top;\n",
       "    }\n",
       "\n",
       "    .dataframe thead th {\n",
       "        text-align: right;\n",
       "    }\n",
       "</style>\n",
       "<table border=\"1\" class=\"dataframe\">\n",
       "  <thead>\n",
       "    <tr style=\"text-align: right;\">\n",
       "      <th></th>\n",
       "      <th>tweet_id</th>\n",
       "      <th>in_reply_to_status_id</th>\n",
       "      <th>in_reply_to_user_id</th>\n",
       "      <th>timestamp</th>\n",
       "      <th>source</th>\n",
       "      <th>text</th>\n",
       "      <th>retweeted_status_id</th>\n",
       "      <th>retweeted_status_user_id</th>\n",
       "      <th>retweeted_status_timestamp</th>\n",
       "      <th>expanded_urls</th>\n",
       "      <th>rating_numerator</th>\n",
       "      <th>rating_denominator</th>\n",
       "      <th>name</th>\n",
       "      <th>doggo</th>\n",
       "      <th>floofer</th>\n",
       "      <th>pupper</th>\n",
       "      <th>puppo</th>\n",
       "    </tr>\n",
       "  </thead>\n",
       "  <tbody>\n",
       "    <tr>\n",
       "      <th>927</th>\n",
       "      <td>754856583969079297</td>\n",
       "      <td>NaN</td>\n",
       "      <td>NaN</td>\n",
       "      <td>2016-07-18 01:53:28 +0000</td>\n",
       "      <td>&lt;a href=\"http://twitter.com/download/iphone\" r...</td>\n",
       "      <td>This is Winnie. She's not a fan of the fast mo...</td>\n",
       "      <td>NaN</td>\n",
       "      <td>NaN</td>\n",
       "      <td>NaN</td>\n",
       "      <td>https://twitter.com/dog_rates/status/754856583...</td>\n",
       "      <td>11</td>\n",
       "      <td>10</td>\n",
       "      <td>Winnie</td>\n",
       "      <td>None</td>\n",
       "      <td>None</td>\n",
       "      <td>None</td>\n",
       "      <td>None</td>\n",
       "    </tr>\n",
       "    <tr>\n",
       "      <th>1597</th>\n",
       "      <td>686050296934563840</td>\n",
       "      <td>NaN</td>\n",
       "      <td>NaN</td>\n",
       "      <td>2016-01-10 05:01:51 +0000</td>\n",
       "      <td>&lt;a href=\"http://twitter.com/download/iphone\" r...</td>\n",
       "      <td>This is Flávio. He's a Macedonian Poppycock. 9...</td>\n",
       "      <td>NaN</td>\n",
       "      <td>NaN</td>\n",
       "      <td>NaN</td>\n",
       "      <td>https://twitter.com/dog_rates/status/686050296...</td>\n",
       "      <td>11</td>\n",
       "      <td>10</td>\n",
       "      <td>Flávio</td>\n",
       "      <td>None</td>\n",
       "      <td>None</td>\n",
       "      <td>None</td>\n",
       "      <td>None</td>\n",
       "    </tr>\n",
       "    <tr>\n",
       "      <th>1556</th>\n",
       "      <td>688828561667567616</td>\n",
       "      <td>NaN</td>\n",
       "      <td>NaN</td>\n",
       "      <td>2016-01-17 21:01:41 +0000</td>\n",
       "      <td>&lt;a href=\"http://twitter.com/download/iphone\" r...</td>\n",
       "      <td>Say hello to Brad. His car probably has a spoi...</td>\n",
       "      <td>NaN</td>\n",
       "      <td>NaN</td>\n",
       "      <td>NaN</td>\n",
       "      <td>https://twitter.com/dog_rates/status/688828561...</td>\n",
       "      <td>9</td>\n",
       "      <td>10</td>\n",
       "      <td>Brad</td>\n",
       "      <td>None</td>\n",
       "      <td>None</td>\n",
       "      <td>None</td>\n",
       "      <td>None</td>\n",
       "    </tr>\n",
       "    <tr>\n",
       "      <th>957</th>\n",
       "      <td>751538714308972544</td>\n",
       "      <td>NaN</td>\n",
       "      <td>NaN</td>\n",
       "      <td>2016-07-08 22:09:27 +0000</td>\n",
       "      <td>&lt;a href=\"http://twitter.com/download/iphone\" r...</td>\n",
       "      <td>This is Max. She has one ear that's always sli...</td>\n",
       "      <td>NaN</td>\n",
       "      <td>NaN</td>\n",
       "      <td>NaN</td>\n",
       "      <td>https://twitter.com/dog_rates/status/751538714...</td>\n",
       "      <td>10</td>\n",
       "      <td>10</td>\n",
       "      <td>Max</td>\n",
       "      <td>None</td>\n",
       "      <td>None</td>\n",
       "      <td>None</td>\n",
       "      <td>None</td>\n",
       "    </tr>\n",
       "    <tr>\n",
       "      <th>144</th>\n",
       "      <td>863907417377173506</td>\n",
       "      <td>NaN</td>\n",
       "      <td>NaN</td>\n",
       "      <td>2017-05-15 00:02:33 +0000</td>\n",
       "      <td>&lt;a href=\"http://twitter.com/download/iphone\" r...</td>\n",
       "      <td>This is Albus. He's quite impressive at hide a...</td>\n",
       "      <td>NaN</td>\n",
       "      <td>NaN</td>\n",
       "      <td>NaN</td>\n",
       "      <td>https://twitter.com/dog_rates/status/863907417...</td>\n",
       "      <td>13</td>\n",
       "      <td>10</td>\n",
       "      <td>Albus</td>\n",
       "      <td>None</td>\n",
       "      <td>None</td>\n",
       "      <td>None</td>\n",
       "      <td>None</td>\n",
       "    </tr>\n",
       "  </tbody>\n",
       "</table>\n",
       "</div>"
      ],
      "text/plain": [
       "                tweet_id  in_reply_to_status_id  in_reply_to_user_id  \\\n",
       "927   754856583969079297                    NaN                  NaN   \n",
       "1597  686050296934563840                    NaN                  NaN   \n",
       "1556  688828561667567616                    NaN                  NaN   \n",
       "957   751538714308972544                    NaN                  NaN   \n",
       "144   863907417377173506                    NaN                  NaN   \n",
       "\n",
       "                      timestamp  \\\n",
       "927   2016-07-18 01:53:28 +0000   \n",
       "1597  2016-01-10 05:01:51 +0000   \n",
       "1556  2016-01-17 21:01:41 +0000   \n",
       "957   2016-07-08 22:09:27 +0000   \n",
       "144   2017-05-15 00:02:33 +0000   \n",
       "\n",
       "                                                 source  \\\n",
       "927   <a href=\"http://twitter.com/download/iphone\" r...   \n",
       "1597  <a href=\"http://twitter.com/download/iphone\" r...   \n",
       "1556  <a href=\"http://twitter.com/download/iphone\" r...   \n",
       "957   <a href=\"http://twitter.com/download/iphone\" r...   \n",
       "144   <a href=\"http://twitter.com/download/iphone\" r...   \n",
       "\n",
       "                                                   text  retweeted_status_id  \\\n",
       "927   This is Winnie. She's not a fan of the fast mo...                  NaN   \n",
       "1597  This is Flávio. He's a Macedonian Poppycock. 9...                  NaN   \n",
       "1556  Say hello to Brad. His car probably has a spoi...                  NaN   \n",
       "957   This is Max. She has one ear that's always sli...                  NaN   \n",
       "144   This is Albus. He's quite impressive at hide a...                  NaN   \n",
       "\n",
       "      retweeted_status_user_id retweeted_status_timestamp  \\\n",
       "927                        NaN                        NaN   \n",
       "1597                       NaN                        NaN   \n",
       "1556                       NaN                        NaN   \n",
       "957                        NaN                        NaN   \n",
       "144                        NaN                        NaN   \n",
       "\n",
       "                                          expanded_urls  rating_numerator  \\\n",
       "927   https://twitter.com/dog_rates/status/754856583...                11   \n",
       "1597  https://twitter.com/dog_rates/status/686050296...                11   \n",
       "1556  https://twitter.com/dog_rates/status/688828561...                 9   \n",
       "957   https://twitter.com/dog_rates/status/751538714...                10   \n",
       "144   https://twitter.com/dog_rates/status/863907417...                13   \n",
       "\n",
       "      rating_denominator    name doggo floofer pupper puppo  \n",
       "927                   10  Winnie  None    None   None  None  \n",
       "1597                  10  Flávio  None    None   None  None  \n",
       "1556                  10    Brad  None    None   None  None  \n",
       "957                   10     Max  None    None   None  None  \n",
       "144                   10   Albus  None    None   None  None  "
      ]
     },
     "execution_count": 6,
     "metadata": {},
     "output_type": "execute_result"
    }
   ],
   "source": [
    "# Testing Archive_Dataframe\n",
    "Archive_Dataframe.sample(5)"
   ]
  },
  {
   "cell_type": "code",
   "execution_count": 7,
   "metadata": {},
   "outputs": [
    {
     "data": {
      "text/plain": [
       "12      558\n",
       "11      464\n",
       "10      461\n",
       "13      351\n",
       "9       158\n",
       "8       102\n",
       "7        55\n",
       "14       54\n",
       "5        37\n",
       "6        32\n",
       "3        19\n",
       "4        17\n",
       "1         9\n",
       "2         9\n",
       "420       2\n",
       "0         2\n",
       "15        2\n",
       "75        2\n",
       "80        1\n",
       "20        1\n",
       "24        1\n",
       "26        1\n",
       "44        1\n",
       "50        1\n",
       "60        1\n",
       "165       1\n",
       "84        1\n",
       "88        1\n",
       "144       1\n",
       "182       1\n",
       "143       1\n",
       "666       1\n",
       "960       1\n",
       "1776      1\n",
       "17        1\n",
       "27        1\n",
       "45        1\n",
       "99        1\n",
       "121       1\n",
       "204       1\n",
       "Name: rating_numerator, dtype: int64"
      ]
     },
     "execution_count": 7,
     "metadata": {},
     "output_type": "execute_result"
    }
   ],
   "source": [
    "# Testing Archive_Dataframe\n",
    "Archive_Dataframe.rating_numerator.value_counts()"
   ]
  },
  {
   "cell_type": "code",
   "execution_count": 8,
   "metadata": {},
   "outputs": [
    {
     "name": "stdout",
     "output_type": "stream",
     "text": [
      "188     @dhmontgomery We also gave snoop dogg a 420/10...\n",
      "2074    After so many requests... here you go.\\n\\nGood...\n",
      "Name: text, dtype: object\n",
      "902    Why does this never happen at my front door......\n",
      "Name: text, dtype: object\n",
      "1779    IT'S PUPPERGEDDON. Total of 144/120 ...I think...\n",
      "Name: text, dtype: object\n",
      "290    @markhoppus 182/10\n",
      "Name: text, dtype: object\n",
      "1634    Two sneaky puppers were not initially seen, mo...\n",
      "Name: text, dtype: object\n",
      "189    @s8n You tried very hard to portray this good ...\n",
      "Name: text, dtype: object\n",
      "313    @jonnysun @Lin_Manuel ok jomny I know you're e...\n",
      "Name: text, dtype: object\n",
      "979    This is Atticus. He's quite simply America af....\n",
      "Name: text, dtype: object\n",
      "1228    Happy Saturday here's 9 puppers on a bench. 99...\n",
      "Name: text, dtype: object\n",
      "1635    Someone help the girl is being mugged. Several...\n",
      "Name: text, dtype: object\n",
      "1120    Say hello to this unbelievably well behaved sq...\n",
      "Name: text, dtype: object\n"
     ]
    }
   ],
   "source": [
    "# Checking for all the numerators which feels like incorrect. \n",
    "# Text will be analysed to assess whether to ignore or clean\n",
    "print(Archive_Dataframe.text[Archive_Dataframe.rating_numerator == 420])\n",
    "print(Archive_Dataframe.text[Archive_Dataframe.rating_numerator == 165])\n",
    "print(Archive_Dataframe.text[Archive_Dataframe.rating_numerator == 144])\n",
    "print(Archive_Dataframe.text[Archive_Dataframe.rating_numerator == 182])\n",
    "print(Archive_Dataframe.text[Archive_Dataframe.rating_numerator == 143])\n",
    "print(Archive_Dataframe.text[Archive_Dataframe.rating_numerator == 666])\n",
    "print(Archive_Dataframe.text[Archive_Dataframe.rating_numerator == 960])\n",
    "print(Archive_Dataframe.text[Archive_Dataframe.rating_numerator == 1776])\n",
    "print(Archive_Dataframe.text[Archive_Dataframe.rating_numerator == 99])\n",
    "print(Archive_Dataframe.text[Archive_Dataframe.rating_numerator == 121])\n",
    "print(Archive_Dataframe.text[Archive_Dataframe.rating_numerator == 204])"
   ]
  },
  {
   "cell_type": "code",
   "execution_count": 9,
   "metadata": {},
   "outputs": [
    {
     "name": "stdout",
     "output_type": "stream",
     "text": [
      "@dhmontgomery We also gave snoop dogg a 420/10 but I think that predated your research END\n",
      "After so many requests... here you go.\n",
      "\n",
      "Good dogg. 420/10 https://t.co/yfAAo1gdeY END\n",
      "Why does this never happen at my front door... 165/150 https://t.co/HmwrdfEfUE END\n",
      "IT'S PUPPERGEDDON. Total of 144/120 ...I think https://t.co/ZanVtAtvIq END\n",
      "@markhoppus 182/10 END\n",
      "Two sneaky puppers were not initially seen, moving the rating to 143/130. Please forgive us. Thank you https://t.co/kRK51Y5ac3 END\n",
      "@s8n You tried very hard to portray this good boy as not so good, but you have ultimately failed. His goodness shines through. 666/10 END\n",
      "@jonnysun @Lin_Manuel ok jomny I know you're excited but 960/00 isn't a valid rating, 13/10 is tho END\n",
      "This is Atticus. He's quite simply America af. 1776/10 https://t.co/GRXwMxLBkh END\n",
      "Happy Saturday here's 9 puppers on a bench. 99/90 good work everybody https://t.co/mpvaVxKmc1 END\n",
      "Someone help the girl is being mugged. Several are distracting her while two steal her shoes. Clever puppers 121/110 https://t.co/1zfnTJLt55 END\n",
      "Say hello to this unbelievably well behaved squad of doggos. 204/170 would try to pet all at once https://t.co/yGQI3He3xv END\n"
     ]
    }
   ],
   "source": [
    "# Full Text for numerator\n",
    "print(Archive_Dataframe['text'][188]+' END') # should be cleaned as it was rated to snoop dog\n",
    "print(Archive_Dataframe['text'][2074]+' END') # should be cleaned as it was rated to snoop dog\n",
    "print(Archive_Dataframe['text'][902]+' END') # Ignoring it as data seems fine\n",
    "print(Archive_Dataframe['text'][1779]+' END') # Ignoring it as data seems fine\n",
    "print(Archive_Dataframe['text'][290]+' END') # No photo hence will be cleaned\n",
    "print(Archive_Dataframe['text'][1634]+' END') # Ignoring it as data seems fine\n",
    "print(Archive_Dataframe['text'][189]+' END') # No Picture hence will be cleaned\n",
    "print(Archive_Dataframe['text'][313]+' END') # 13/10 is the valid rating rather 960/00 hence needs to be cleaned\n",
    "print(Archive_Dataframe['text'][979]+' END') # Ignoring it as data seems fine\n",
    "print(Archive_Dataframe['text'][1228]+' END') # Ignoring it as data seems fine\n",
    "print(Archive_Dataframe['text'][1635]+' END') # Ignoring it as data seems fine\n",
    "print(Archive_Dataframe['text'][1120]+' END') # Ignoring it as data seems fine"
   ]
  },
  {
   "cell_type": "code",
   "execution_count": 10,
   "metadata": {},
   "outputs": [
    {
     "data": {
      "text/plain": [
       "10     2333\n",
       "11        3\n",
       "50        3\n",
       "80        2\n",
       "20        2\n",
       "2         1\n",
       "16        1\n",
       "40        1\n",
       "70        1\n",
       "15        1\n",
       "90        1\n",
       "110       1\n",
       "120       1\n",
       "130       1\n",
       "150       1\n",
       "170       1\n",
       "7         1\n",
       "0         1\n",
       "Name: rating_denominator, dtype: int64"
      ]
     },
     "execution_count": 10,
     "metadata": {},
     "output_type": "execute_result"
    }
   ],
   "source": [
    "Archive_Dataframe.rating_denominator.value_counts()"
   ]
  },
  {
   "cell_type": "code",
   "execution_count": 11,
   "metadata": {},
   "outputs": [
    {
     "name": "stdout",
     "output_type": "stream",
     "text": [
      "784     RT @dog_rates: After so many requests, this is...\n",
      "1068    After so many requests, this is Bretagne. She ...\n",
      "1662    This is Darrel. He just robbed a 7/11 and is i...\n",
      "Name: text, dtype: object\n",
      "2335    This is an Albanian 3 1/2 legged  Episcopalian...\n",
      "Name: text, dtype: object\n",
      "1663    I'm aware that I could've said 20/16, but here...\n",
      "Name: text, dtype: object\n",
      "342    @docmisterio account started on 11/15/15\n",
      "Name: text, dtype: object\n",
      "516    Meet Sam. She smiles 24/7 &amp; secretly aspir...\n",
      "Name: text, dtype: object\n",
      "313    @jonnysun @Lin_Manuel ok jomny I know you're e...\n",
      "Name: text, dtype: object\n"
     ]
    }
   ],
   "source": [
    "# Denominator is allocted based upon the number of dogs with multiple of 10\n",
    "# Suspicious denominators are those which are not multiple of 10\n",
    "print(Archive_Dataframe.text[Archive_Dataframe.rating_denominator == 11])\n",
    "print(Archive_Dataframe.text[Archive_Dataframe.rating_denominator == 2])\n",
    "print(Archive_Dataframe.text[Archive_Dataframe.rating_denominator == 16])\n",
    "print(Archive_Dataframe.text[Archive_Dataframe.rating_denominator == 15])\n",
    "print(Archive_Dataframe.text[Archive_Dataframe.rating_denominator == 7])\n",
    "print(Archive_Dataframe.text[Archive_Dataframe.rating_denominator == 0])"
   ]
  },
  {
   "cell_type": "code",
   "execution_count": 12,
   "metadata": {},
   "outputs": [
    {
     "name": "stdout",
     "output_type": "stream",
     "text": [
      "RT @dog_rates: After so many requests, this is Bretagne. She was the last surviving 9/11 search dog, and our second ever 14/10. RIP https:/…END\n",
      "After so many requests, this is Bretagne. She was the last surviving 9/11 search dog, and our second ever 14/10. RIP https://t.co/XAVDNDaVgQEND\n",
      "This is Darrel. He just robbed a 7/11 and is in a high speed police chase. Was just spotted by the helicopter 10/10 https://t.co/7EsP8LmSp5END\n",
      "This is an Albanian 3 1/2 legged  Episcopalian. Loves well-polished hardwood flooring. Penis on the collar. 9/10 https://t.co/d9NcXFKwLvEND\n",
      "I'm aware that I could've said 20/16, but here at WeRateDogs we are very professional. An inconsistent rating scale is simply irresponsibleEND\n",
      "@docmisterio account started on 11/15/15END\n",
      "Meet Sam. She smiles 24/7 &amp; secretly aspires to be a reindeer. \n",
      "Keep Sam smiling by clicking and sharing this link:\n",
      "https://t.co/98tB8y7y7t https://t.co/LouL5vdvxxEND\n",
      "@jonnysun @Lin_Manuel ok jomny I know you're excited but 960/00 isn't a valid rating, 13/10 is thoEND\n"
     ]
    }
   ],
   "source": [
    "# Full text for denominator\n",
    "print(Archive_Dataframe.text[784]+'END') # retweet, Correct denominator is 10 rather 11\n",
    "print(Archive_Dataframe.text[1068]+'END') # Correct denominator is 10 rather 11\n",
    "print(Archive_Dataframe.text[1662]+'END') # Correct denominator is 10 rather 11\n",
    "print(Archive_Dataframe.text[2335]+'END') # Correct denominator is 10 rather 2\n",
    "print(Archive_Dataframe.text[1663]+'END') # WeRateDogs professional detailing. It needs to be cleaned\n",
    "print(Archive_Dataframe.text[342]+'END') # it seems as date hence will cleaned\n",
    "print(Archive_Dataframe.text[516]+'END') # Does not seems to be in twitter anymore, needs to be cleaned\n",
    "print(Archive_Dataframe.text[313]+'END') # Correct denominator is 10 rather 00"
   ]
  },
  {
   "cell_type": "markdown",
   "metadata": {},
   "source": [
    "## Prediction_Dataframe"
   ]
  },
  {
   "cell_type": "code",
   "execution_count": 13,
   "metadata": {},
   "outputs": [
    {
     "data": {
      "text/html": [
       "<div>\n",
       "<style scoped>\n",
       "    .dataframe tbody tr th:only-of-type {\n",
       "        vertical-align: middle;\n",
       "    }\n",
       "\n",
       "    .dataframe tbody tr th {\n",
       "        vertical-align: top;\n",
       "    }\n",
       "\n",
       "    .dataframe thead th {\n",
       "        text-align: right;\n",
       "    }\n",
       "</style>\n",
       "<table border=\"1\" class=\"dataframe\">\n",
       "  <thead>\n",
       "    <tr style=\"text-align: right;\">\n",
       "      <th></th>\n",
       "      <th>tweet_id</th>\n",
       "      <th>jpg_url</th>\n",
       "      <th>img_num</th>\n",
       "      <th>p1</th>\n",
       "      <th>p1_conf</th>\n",
       "      <th>p1_dog</th>\n",
       "      <th>p2</th>\n",
       "      <th>p2_conf</th>\n",
       "      <th>p2_dog</th>\n",
       "      <th>p3</th>\n",
       "      <th>p3_conf</th>\n",
       "      <th>p3_dog</th>\n",
       "    </tr>\n",
       "  </thead>\n",
       "  <tbody>\n",
       "    <tr>\n",
       "      <th>805</th>\n",
       "      <td>691756958957883396</td>\n",
       "      <td>https://pbs.twimg.com/media/CZmdSD8UcAAnY5R.jpg</td>\n",
       "      <td>1</td>\n",
       "      <td>Saint_Bernard</td>\n",
       "      <td>0.342571</td>\n",
       "      <td>True</td>\n",
       "      <td>boxer</td>\n",
       "      <td>0.289096</td>\n",
       "      <td>True</td>\n",
       "      <td>Pembroke</td>\n",
       "      <td>0.076463</td>\n",
       "      <td>True</td>\n",
       "    </tr>\n",
       "    <tr>\n",
       "      <th>604</th>\n",
       "      <td>679854723806179328</td>\n",
       "      <td>https://pbs.twimg.com/media/CW9UQ7oWkAAErmU.jpg</td>\n",
       "      <td>1</td>\n",
       "      <td>llama</td>\n",
       "      <td>0.887963</td>\n",
       "      <td>False</td>\n",
       "      <td>ram</td>\n",
       "      <td>0.095021</td>\n",
       "      <td>False</td>\n",
       "      <td>chow</td>\n",
       "      <td>0.002307</td>\n",
       "      <td>True</td>\n",
       "    </tr>\n",
       "    <tr>\n",
       "      <th>26</th>\n",
       "      <td>666373753744588802</td>\n",
       "      <td>https://pbs.twimg.com/media/CT9vZEYWUAAlZ05.jpg</td>\n",
       "      <td>1</td>\n",
       "      <td>soft-coated_wheaten_terrier</td>\n",
       "      <td>0.326467</td>\n",
       "      <td>True</td>\n",
       "      <td>Afghan_hound</td>\n",
       "      <td>0.259551</td>\n",
       "      <td>True</td>\n",
       "      <td>briard</td>\n",
       "      <td>0.206803</td>\n",
       "      <td>True</td>\n",
       "    </tr>\n",
       "    <tr>\n",
       "      <th>835</th>\n",
       "      <td>694183373896572928</td>\n",
       "      <td>https://pbs.twimg.com/media/CaI8Fn0WAAIrFJN.jpg</td>\n",
       "      <td>1</td>\n",
       "      <td>teddy</td>\n",
       "      <td>0.441499</td>\n",
       "      <td>False</td>\n",
       "      <td>Pekinese</td>\n",
       "      <td>0.080870</td>\n",
       "      <td>True</td>\n",
       "      <td>Shih-Tzu</td>\n",
       "      <td>0.072099</td>\n",
       "      <td>True</td>\n",
       "    </tr>\n",
       "    <tr>\n",
       "      <th>1121</th>\n",
       "      <td>726887082820554753</td>\n",
       "      <td>https://pbs.twimg.com/media/ChZr8SdWIAAVQKt.jpg</td>\n",
       "      <td>1</td>\n",
       "      <td>soft-coated_wheaten_terrier</td>\n",
       "      <td>0.515919</td>\n",
       "      <td>True</td>\n",
       "      <td>Irish_terrier</td>\n",
       "      <td>0.162655</td>\n",
       "      <td>True</td>\n",
       "      <td>Chesapeake_Bay_retriever</td>\n",
       "      <td>0.125182</td>\n",
       "      <td>True</td>\n",
       "    </tr>\n",
       "  </tbody>\n",
       "</table>\n",
       "</div>"
      ],
      "text/plain": [
       "                tweet_id                                          jpg_url  \\\n",
       "805   691756958957883396  https://pbs.twimg.com/media/CZmdSD8UcAAnY5R.jpg   \n",
       "604   679854723806179328  https://pbs.twimg.com/media/CW9UQ7oWkAAErmU.jpg   \n",
       "26    666373753744588802  https://pbs.twimg.com/media/CT9vZEYWUAAlZ05.jpg   \n",
       "835   694183373896572928  https://pbs.twimg.com/media/CaI8Fn0WAAIrFJN.jpg   \n",
       "1121  726887082820554753  https://pbs.twimg.com/media/ChZr8SdWIAAVQKt.jpg   \n",
       "\n",
       "      img_num                           p1   p1_conf  p1_dog             p2  \\\n",
       "805         1                Saint_Bernard  0.342571    True          boxer   \n",
       "604         1                        llama  0.887963   False            ram   \n",
       "26          1  soft-coated_wheaten_terrier  0.326467    True   Afghan_hound   \n",
       "835         1                        teddy  0.441499   False       Pekinese   \n",
       "1121        1  soft-coated_wheaten_terrier  0.515919    True  Irish_terrier   \n",
       "\n",
       "       p2_conf  p2_dog                        p3   p3_conf  p3_dog  \n",
       "805   0.289096    True                  Pembroke  0.076463    True  \n",
       "604   0.095021   False                      chow  0.002307    True  \n",
       "26    0.259551    True                    briard  0.206803    True  \n",
       "835   0.080870    True                  Shih-Tzu  0.072099    True  \n",
       "1121  0.162655    True  Chesapeake_Bay_retriever  0.125182    True  "
      ]
     },
     "execution_count": 13,
     "metadata": {},
     "output_type": "execute_result"
    }
   ],
   "source": [
    "# Testing Prediction_Dataframe\n",
    "Prediction_Dataframe.sample(5)"
   ]
  },
  {
   "cell_type": "code",
   "execution_count": 14,
   "metadata": {},
   "outputs": [
    {
     "name": "stdout",
     "output_type": "stream",
     "text": [
      "<class 'pandas.core.frame.DataFrame'>\n",
      "RangeIndex: 2075 entries, 0 to 2074\n",
      "Data columns (total 12 columns):\n",
      "tweet_id    2075 non-null int64\n",
      "jpg_url     2075 non-null object\n",
      "img_num     2075 non-null int64\n",
      "p1          2075 non-null object\n",
      "p1_conf     2075 non-null float64\n",
      "p1_dog      2075 non-null bool\n",
      "p2          2075 non-null object\n",
      "p2_conf     2075 non-null float64\n",
      "p2_dog      2075 non-null bool\n",
      "p3          2075 non-null object\n",
      "p3_conf     2075 non-null float64\n",
      "p3_dog      2075 non-null bool\n",
      "dtypes: bool(3), float64(3), int64(2), object(4)\n",
      "memory usage: 152.1+ KB\n"
     ]
    }
   ],
   "source": [
    "Prediction_Dataframe.info()"
   ]
  },
  {
   "cell_type": "code",
   "execution_count": 15,
   "metadata": {},
   "outputs": [
    {
     "data": {
      "text/plain": [
       "False    2009\n",
       "True       66\n",
       "Name: jpg_url, dtype: int64"
      ]
     },
     "execution_count": 15,
     "metadata": {},
     "output_type": "execute_result"
    }
   ],
   "source": [
    "Prediction_Dataframe.jpg_url.duplicated().value_counts()"
   ]
  },
  {
   "cell_type": "markdown",
   "metadata": {},
   "source": [
    "## retweet_Dataframe"
   ]
  },
  {
   "cell_type": "code",
   "execution_count": 16,
   "metadata": {},
   "outputs": [
    {
     "name": "stdout",
     "output_type": "stream",
     "text": [
      "<class 'pandas.core.frame.DataFrame'>\n",
      "RangeIndex: 2331 entries, 0 to 2330\n",
      "Data columns (total 5 columns):\n",
      "tweet_id            2331 non-null int64\n",
      "retweet_count       2331 non-null int64\n",
      "favorite_count      2331 non-null int64\n",
      "retweeted_status    2331 non-null object\n",
      "url                 2331 non-null object\n",
      "dtypes: int64(3), object(2)\n",
      "memory usage: 91.1+ KB\n"
     ]
    }
   ],
   "source": [
    "# Testing retweet_Dataframe\n",
    "# 1. Total Count came as 2331 as compared to 2356 in Archive_Dataframe. 25 are not found in tweeter API\n",
    "retweet_Dataframe.info()"
   ]
  },
  {
   "cell_type": "code",
   "execution_count": 17,
   "metadata": {},
   "outputs": [
    {
     "data": {
      "text/plain": [
       "False    2331\n",
       "Name: tweet_id, dtype: int64"
      ]
     },
     "execution_count": 17,
     "metadata": {},
     "output_type": "execute_result"
    }
   ],
   "source": [
    "retweet_Dataframe.tweet_id.duplicated().value_counts()"
   ]
  },
  {
   "cell_type": "code",
   "execution_count": 18,
   "metadata": {},
   "outputs": [
    {
     "data": {
      "text/plain": [
       "163"
      ]
     },
     "execution_count": 18,
     "metadata": {},
     "output_type": "execute_result"
    }
   ],
   "source": [
    "# Need to drop retweets\n",
    "sum(retweet_Dataframe.retweeted_status != 'Original tweet')"
   ]
  },
  {
   "cell_type": "markdown",
   "metadata": {},
   "source": [
    "# Cleaning"
   ]
  },
  {
   "cell_type": "code",
   "execution_count": 19,
   "metadata": {},
   "outputs": [],
   "source": [
    "Archive_Clean =  Archive_Dataframe.copy()\n",
    "Prediction_Clean = Prediction_Dataframe.copy()\n",
    "Retweet_Clean = retweet_Dataframe.copy()"
   ]
  },
  {
   "cell_type": "markdown",
   "metadata": {},
   "source": [
    "# Quality Issues\n",
    "## Define - tweet_id, in_reply_to_status_id, in_reply_to_user_id, retweeted_status_id, retweeted_status_user_id should be of Datatype Object. rating_numerator and rating_denominator should be of Datatype Float\n",
    "## ** As per review comments **\n",
    "## Coding"
   ]
  },
  {
   "cell_type": "code",
   "execution_count": 20,
   "metadata": {},
   "outputs": [],
   "source": [
    "# Changing Datatypes of below columns to Object as per review comments\n",
    "Archive_Clean.tweet_id = Archive_Clean.tweet_id.astype('object')\n",
    "Archive_Clean.in_reply_to_status_id = Archive_Clean.in_reply_to_status_id.astype('object')\n",
    "Archive_Clean.in_reply_to_user_id = Archive_Clean.in_reply_to_user_id.astype('object')\n",
    "Archive_Clean.retweeted_status_id = Archive_Clean.retweeted_status_id.astype('object')\n",
    "Archive_Clean.retweeted_status_user_id = Archive_Clean.retweeted_status_user_id.astype('object')\n",
    "\n",
    "# Changing Datatypes of below columns to float64 as per review comments\n",
    "Archive_Clean.rating_numerator = Archive_Clean.rating_numerator.astype('float64')\n",
    "Archive_Clean.rating_denominator = Archive_Clean.rating_denominator.astype('float64')"
   ]
  },
  {
   "cell_type": "markdown",
   "metadata": {},
   "source": [
    "## Testing"
   ]
  },
  {
   "cell_type": "code",
   "execution_count": 21,
   "metadata": {},
   "outputs": [
    {
     "name": "stdout",
     "output_type": "stream",
     "text": [
      "<class 'pandas.core.frame.DataFrame'>\n",
      "RangeIndex: 2356 entries, 0 to 2355\n",
      "Data columns (total 17 columns):\n",
      "tweet_id                      2356 non-null object\n",
      "in_reply_to_status_id         78 non-null object\n",
      "in_reply_to_user_id           78 non-null object\n",
      "timestamp                     2356 non-null object\n",
      "source                        2356 non-null object\n",
      "text                          2356 non-null object\n",
      "retweeted_status_id           181 non-null object\n",
      "retweeted_status_user_id      181 non-null object\n",
      "retweeted_status_timestamp    181 non-null object\n",
      "expanded_urls                 2297 non-null object\n",
      "rating_numerator              2356 non-null float64\n",
      "rating_denominator            2356 non-null float64\n",
      "name                          2356 non-null object\n",
      "doggo                         2356 non-null object\n",
      "floofer                       2356 non-null object\n",
      "pupper                        2356 non-null object\n",
      "puppo                         2356 non-null object\n",
      "dtypes: float64(2), object(15)\n",
      "memory usage: 313.0+ KB\n"
     ]
    }
   ],
   "source": [
    "Archive_Clean.info()"
   ]
  },
  {
   "cell_type": "markdown",
   "metadata": {},
   "source": [
    "## Define - Drop rows having retweet_status_id assuming retweets are not accounted\n",
    "## Coding"
   ]
  },
  {
   "cell_type": "code",
   "execution_count": 22,
   "metadata": {},
   "outputs": [],
   "source": [
    "Archive_Clean = Archive_Clean[Archive_Clean.retweeted_status_id.isnull() == True]\n",
    "Archive_Clean = Archive_Clean[Archive_Clean.in_reply_to_status_id.isnull() == True]"
   ]
  },
  {
   "cell_type": "markdown",
   "metadata": {},
   "source": [
    "## Testing"
   ]
  },
  {
   "cell_type": "code",
   "execution_count": 23,
   "metadata": {},
   "outputs": [
    {
     "name": "stdout",
     "output_type": "stream",
     "text": [
      "<class 'pandas.core.frame.DataFrame'>\n",
      "Int64Index: 2097 entries, 0 to 2355\n",
      "Data columns (total 17 columns):\n",
      "tweet_id                      2097 non-null object\n",
      "in_reply_to_status_id         0 non-null object\n",
      "in_reply_to_user_id           0 non-null object\n",
      "timestamp                     2097 non-null object\n",
      "source                        2097 non-null object\n",
      "text                          2097 non-null object\n",
      "retweeted_status_id           0 non-null object\n",
      "retweeted_status_user_id      0 non-null object\n",
      "retweeted_status_timestamp    0 non-null object\n",
      "expanded_urls                 2094 non-null object\n",
      "rating_numerator              2097 non-null float64\n",
      "rating_denominator            2097 non-null float64\n",
      "name                          2097 non-null object\n",
      "doggo                         2097 non-null object\n",
      "floofer                       2097 non-null object\n",
      "pupper                        2097 non-null object\n",
      "puppo                         2097 non-null object\n",
      "dtypes: float64(2), object(15)\n",
      "memory usage: 294.9+ KB\n"
     ]
    }
   ],
   "source": [
    "Archive_Clean.info()"
   ]
  },
  {
   "cell_type": "markdown",
   "metadata": {},
   "source": [
    "## Define - Changing the datatype of Timestamp column in Archive_Dataframe\n",
    "## Coding"
   ]
  },
  {
   "cell_type": "code",
   "execution_count": 24,
   "metadata": {},
   "outputs": [],
   "source": [
    "Archive_Clean['timestamp'] = pd.to_datetime(Archive_Clean['timestamp'])"
   ]
  },
  {
   "cell_type": "markdown",
   "metadata": {},
   "source": [
    "## Testing"
   ]
  },
  {
   "cell_type": "code",
   "execution_count": 25,
   "metadata": {},
   "outputs": [
    {
     "name": "stdout",
     "output_type": "stream",
     "text": [
      "<class 'pandas.core.frame.DataFrame'>\n",
      "Int64Index: 2097 entries, 0 to 2355\n",
      "Data columns (total 17 columns):\n",
      "tweet_id                      2097 non-null object\n",
      "in_reply_to_status_id         0 non-null object\n",
      "in_reply_to_user_id           0 non-null object\n",
      "timestamp                     2097 non-null datetime64[ns]\n",
      "source                        2097 non-null object\n",
      "text                          2097 non-null object\n",
      "retweeted_status_id           0 non-null object\n",
      "retweeted_status_user_id      0 non-null object\n",
      "retweeted_status_timestamp    0 non-null object\n",
      "expanded_urls                 2094 non-null object\n",
      "rating_numerator              2097 non-null float64\n",
      "rating_denominator            2097 non-null float64\n",
      "name                          2097 non-null object\n",
      "doggo                         2097 non-null object\n",
      "floofer                       2097 non-null object\n",
      "pupper                        2097 non-null object\n",
      "puppo                         2097 non-null object\n",
      "dtypes: datetime64[ns](1), float64(2), object(14)\n",
      "memory usage: 294.9+ KB\n"
     ]
    }
   ],
   "source": [
    "Archive_Clean.info()"
   ]
  },
  {
   "cell_type": "markdown",
   "metadata": {},
   "source": [
    "## Define - Source column needs to be cleaned to get the source of the twitter\n",
    "## Coding"
   ]
  },
  {
   "cell_type": "code",
   "execution_count": 26,
   "metadata": {},
   "outputs": [],
   "source": [
    "source_list = []\n",
    "\n",
    "for source_line in Archive_Clean.source:\n",
    "    source_list.append(source_line.split('>')[1].replace('</a',''))\n",
    "    \n",
    "Archive_Clean['source'] = source_list"
   ]
  },
  {
   "cell_type": "markdown",
   "metadata": {},
   "source": [
    "## Testing"
   ]
  },
  {
   "cell_type": "code",
   "execution_count": 27,
   "metadata": {},
   "outputs": [
    {
     "data": {
      "text/plain": [
       "2261    Twitter Web Client\n",
       "2245    Twitter for iPhone\n",
       "508     Twitter for iPhone\n",
       "410     Twitter for iPhone\n",
       "501     Twitter for iPhone\n",
       "Name: source, dtype: object"
      ]
     },
     "execution_count": 27,
     "metadata": {},
     "output_type": "execute_result"
    }
   ],
   "source": [
    "Archive_Clean.source.sample(5)"
   ]
  },
  {
   "cell_type": "markdown",
   "metadata": {},
   "source": [
    "## Define - Changing the Datatype for tweet_id to object\n",
    "## ** As per review comments **\n",
    "## Coding"
   ]
  },
  {
   "cell_type": "code",
   "execution_count": 28,
   "metadata": {},
   "outputs": [],
   "source": [
    "Prediction_Clean['tweet_id'] = Prediction_Clean.tweet_id.astype('object')"
   ]
  },
  {
   "cell_type": "markdown",
   "metadata": {},
   "source": [
    "## Testing"
   ]
  },
  {
   "cell_type": "code",
   "execution_count": 29,
   "metadata": {},
   "outputs": [
    {
     "name": "stdout",
     "output_type": "stream",
     "text": [
      "<class 'pandas.core.frame.DataFrame'>\n",
      "RangeIndex: 2075 entries, 0 to 2074\n",
      "Data columns (total 12 columns):\n",
      "tweet_id    2075 non-null object\n",
      "jpg_url     2075 non-null object\n",
      "img_num     2075 non-null int64\n",
      "p1          2075 non-null object\n",
      "p1_conf     2075 non-null float64\n",
      "p1_dog      2075 non-null bool\n",
      "p2          2075 non-null object\n",
      "p2_conf     2075 non-null float64\n",
      "p2_dog      2075 non-null bool\n",
      "p3          2075 non-null object\n",
      "p3_conf     2075 non-null float64\n",
      "p3_dog      2075 non-null bool\n",
      "dtypes: bool(3), float64(3), int64(1), object(5)\n",
      "memory usage: 152.1+ KB\n"
     ]
    }
   ],
   "source": [
    "Prediction_Clean.info()"
   ]
  },
  {
   "cell_type": "markdown",
   "metadata": {},
   "source": [
    "## Define - Greatest of all predictions with TRUE value will be taken into one column in Prediction_Dataframe. Also one tidiness issue of dropping prediction columns in Prediction Dataframe\n",
    "## Coding"
   ]
  },
  {
   "cell_type": "code",
   "execution_count": 30,
   "metadata": {},
   "outputs": [],
   "source": [
    "# setup the conditions for selection\n",
    "# ref: https://www.geeksforgeeks.org/numpy-select-function-python/\n",
    "\n",
    "conditions = [(Prediction_Clean['p1_dog'] == True),\n",
    "              (Prediction_Clean['p2_dog'] == True),\n",
    "              (Prediction_Clean['p3_dog'] == True)]\n",
    "\n",
    "# set the choice order based on the selection conditions for predicted breed\n",
    "choices_breed = [Prediction_Clean['p1'], \n",
    "                 Prediction_Clean['p2'],\n",
    "                 Prediction_Clean['p3']]\n",
    "\n",
    "# set the choice order for confidence level based on the selection conditions\n",
    "choices_confidence = [Prediction_Clean['p1_conf'], \n",
    "                      Prediction_Clean['p2_conf'], \n",
    "                      Prediction_Clean['p3_conf']]\n",
    "\n",
    "# select the predicted breed based on the first successful condition\n",
    "Prediction_Clean['breed'] = np.select(conditions, choices_breed, default = 'none')\n",
    "\n",
    "# select the predicted confidence level based on the first successful condition\n",
    "Prediction_Clean['confidence'] = np.select(conditions, choices_confidence, default = 0)"
   ]
  },
  {
   "cell_type": "markdown",
   "metadata": {},
   "source": [
    "## Testing"
   ]
  },
  {
   "cell_type": "code",
   "execution_count": 31,
   "metadata": {},
   "outputs": [
    {
     "data": {
      "text/html": [
       "<div>\n",
       "<style scoped>\n",
       "    .dataframe tbody tr th:only-of-type {\n",
       "        vertical-align: middle;\n",
       "    }\n",
       "\n",
       "    .dataframe tbody tr th {\n",
       "        vertical-align: top;\n",
       "    }\n",
       "\n",
       "    .dataframe thead th {\n",
       "        text-align: right;\n",
       "    }\n",
       "</style>\n",
       "<table border=\"1\" class=\"dataframe\">\n",
       "  <thead>\n",
       "    <tr style=\"text-align: right;\">\n",
       "      <th></th>\n",
       "      <th>tweet_id</th>\n",
       "      <th>jpg_url</th>\n",
       "      <th>img_num</th>\n",
       "      <th>p1</th>\n",
       "      <th>p1_conf</th>\n",
       "      <th>p1_dog</th>\n",
       "      <th>p2</th>\n",
       "      <th>p2_conf</th>\n",
       "      <th>p2_dog</th>\n",
       "      <th>p3</th>\n",
       "      <th>p3_conf</th>\n",
       "      <th>p3_dog</th>\n",
       "      <th>breed</th>\n",
       "      <th>confidence</th>\n",
       "    </tr>\n",
       "  </thead>\n",
       "  <tbody>\n",
       "    <tr>\n",
       "      <th>1691</th>\n",
       "      <td>815966073409433600</td>\n",
       "      <td>https://pbs.twimg.com/ext_tw_video_thumb/81596...</td>\n",
       "      <td>1</td>\n",
       "      <td>Tibetan_mastiff</td>\n",
       "      <td>0.506312</td>\n",
       "      <td>True</td>\n",
       "      <td>Tibetan_terrier</td>\n",
       "      <td>0.295690</td>\n",
       "      <td>True</td>\n",
       "      <td>otterhound</td>\n",
       "      <td>0.036251</td>\n",
       "      <td>True</td>\n",
       "      <td>Tibetan_mastiff</td>\n",
       "      <td>0.506312</td>\n",
       "    </tr>\n",
       "    <tr>\n",
       "      <th>543</th>\n",
       "      <td>677269281705472000</td>\n",
       "      <td>https://pbs.twimg.com/media/CWYk0WxWoAAEwRt.jpg</td>\n",
       "      <td>1</td>\n",
       "      <td>Shetland_sheepdog</td>\n",
       "      <td>0.656616</td>\n",
       "      <td>True</td>\n",
       "      <td>collie</td>\n",
       "      <td>0.195405</td>\n",
       "      <td>True</td>\n",
       "      <td>German_shepherd</td>\n",
       "      <td>0.013103</td>\n",
       "      <td>True</td>\n",
       "      <td>Shetland_sheepdog</td>\n",
       "      <td>0.656616</td>\n",
       "    </tr>\n",
       "    <tr>\n",
       "      <th>1713</th>\n",
       "      <td>818614493328580609</td>\n",
       "      <td>https://pbs.twimg.com/media/C1xNgraVIAA3EVb.jpg</td>\n",
       "      <td>4</td>\n",
       "      <td>Chihuahua</td>\n",
       "      <td>0.450722</td>\n",
       "      <td>True</td>\n",
       "      <td>Border_terrier</td>\n",
       "      <td>0.204177</td>\n",
       "      <td>True</td>\n",
       "      <td>beagle</td>\n",
       "      <td>0.092774</td>\n",
       "      <td>True</td>\n",
       "      <td>Chihuahua</td>\n",
       "      <td>0.450722</td>\n",
       "    </tr>\n",
       "    <tr>\n",
       "      <th>294</th>\n",
       "      <td>671355857343524864</td>\n",
       "      <td>https://pbs.twimg.com/media/CVEilyCUwAETbJ-.jpg</td>\n",
       "      <td>1</td>\n",
       "      <td>miniature_poodle</td>\n",
       "      <td>0.313811</td>\n",
       "      <td>True</td>\n",
       "      <td>toy_poodle</td>\n",
       "      <td>0.165585</td>\n",
       "      <td>True</td>\n",
       "      <td>Irish_terrier</td>\n",
       "      <td>0.056094</td>\n",
       "      <td>True</td>\n",
       "      <td>miniature_poodle</td>\n",
       "      <td>0.313811</td>\n",
       "    </tr>\n",
       "    <tr>\n",
       "      <th>706</th>\n",
       "      <td>684959798585110529</td>\n",
       "      <td>https://pbs.twimg.com/media/CYF3TSlWMAAaoG5.jpg</td>\n",
       "      <td>1</td>\n",
       "      <td>llama</td>\n",
       "      <td>0.379624</td>\n",
       "      <td>False</td>\n",
       "      <td>triceratops</td>\n",
       "      <td>0.162761</td>\n",
       "      <td>False</td>\n",
       "      <td>hog</td>\n",
       "      <td>0.084251</td>\n",
       "      <td>False</td>\n",
       "      <td>none</td>\n",
       "      <td>0.000000</td>\n",
       "    </tr>\n",
       "  </tbody>\n",
       "</table>\n",
       "</div>"
      ],
      "text/plain": [
       "                tweet_id                                            jpg_url  \\\n",
       "1691  815966073409433600  https://pbs.twimg.com/ext_tw_video_thumb/81596...   \n",
       "543   677269281705472000    https://pbs.twimg.com/media/CWYk0WxWoAAEwRt.jpg   \n",
       "1713  818614493328580609    https://pbs.twimg.com/media/C1xNgraVIAA3EVb.jpg   \n",
       "294   671355857343524864    https://pbs.twimg.com/media/CVEilyCUwAETbJ-.jpg   \n",
       "706   684959798585110529    https://pbs.twimg.com/media/CYF3TSlWMAAaoG5.jpg   \n",
       "\n",
       "      img_num                 p1   p1_conf  p1_dog               p2   p2_conf  \\\n",
       "1691        1    Tibetan_mastiff  0.506312    True  Tibetan_terrier  0.295690   \n",
       "543         1  Shetland_sheepdog  0.656616    True           collie  0.195405   \n",
       "1713        4          Chihuahua  0.450722    True   Border_terrier  0.204177   \n",
       "294         1   miniature_poodle  0.313811    True       toy_poodle  0.165585   \n",
       "706         1              llama  0.379624   False      triceratops  0.162761   \n",
       "\n",
       "      p2_dog               p3   p3_conf  p3_dog              breed  confidence  \n",
       "1691    True       otterhound  0.036251    True    Tibetan_mastiff    0.506312  \n",
       "543     True  German_shepherd  0.013103    True  Shetland_sheepdog    0.656616  \n",
       "1713    True           beagle  0.092774    True          Chihuahua    0.450722  \n",
       "294     True    Irish_terrier  0.056094    True   miniature_poodle    0.313811  \n",
       "706    False              hog  0.084251   False               none    0.000000  "
      ]
     },
     "execution_count": 31,
     "metadata": {},
     "output_type": "execute_result"
    }
   ],
   "source": [
    "Prediction_Clean.sample(5)"
   ]
  },
  {
   "cell_type": "markdown",
   "metadata": {},
   "source": [
    "## Define - breed column have _ in Prediction_Dataframe. Replace it with spaces\n",
    "## Coding"
   ]
  },
  {
   "cell_type": "code",
   "execution_count": 32,
   "metadata": {},
   "outputs": [],
   "source": [
    "Prediction_Clean['breed'] = Prediction_Clean.breed.astype(str).str.replace(\"_\",\" \")"
   ]
  },
  {
   "cell_type": "markdown",
   "metadata": {},
   "source": [
    "## Testing"
   ]
  },
  {
   "cell_type": "code",
   "execution_count": 33,
   "metadata": {},
   "outputs": [
    {
     "data": {
      "text/plain": [
       "1716                        none\n",
       "323                         none\n",
       "1249                    Pembroke\n",
       "1155            golden retriever\n",
       "360     Chesapeake Bay retriever\n",
       "Name: breed, dtype: object"
      ]
     },
     "execution_count": 33,
     "metadata": {},
     "output_type": "execute_result"
    }
   ],
   "source": [
    "Prediction_Clean.breed.sample(5)"
   ]
  },
  {
   "cell_type": "markdown",
   "metadata": {},
   "source": [
    "## Define - IN retweet_Dataframe, change the Datatypes\n",
    "## ** As per review comments **\n",
    "## Coding"
   ]
  },
  {
   "cell_type": "code",
   "execution_count": 34,
   "metadata": {},
   "outputs": [],
   "source": [
    "Retweet_Clean['tweet_id'] = Retweet_Clean.tweet_id.astype('object')"
   ]
  },
  {
   "cell_type": "markdown",
   "metadata": {},
   "source": [
    "## Testing"
   ]
  },
  {
   "cell_type": "code",
   "execution_count": 35,
   "metadata": {},
   "outputs": [
    {
     "name": "stdout",
     "output_type": "stream",
     "text": [
      "<class 'pandas.core.frame.DataFrame'>\n",
      "RangeIndex: 2331 entries, 0 to 2330\n",
      "Data columns (total 5 columns):\n",
      "tweet_id            2331 non-null object\n",
      "retweet_count       2331 non-null int64\n",
      "favorite_count      2331 non-null int64\n",
      "retweeted_status    2331 non-null object\n",
      "url                 2331 non-null object\n",
      "dtypes: int64(2), object(3)\n",
      "memory usage: 91.1+ KB\n"
     ]
    }
   ],
   "source": [
    "Retweet_Clean.info()"
   ]
  },
  {
   "cell_type": "markdown",
   "metadata": {},
   "source": [
    "## Define - In retweet_Dataframe, remove retweets\n",
    "## Coding"
   ]
  },
  {
   "cell_type": "code",
   "execution_count": 36,
   "metadata": {},
   "outputs": [],
   "source": [
    "Retweet_Clean = Retweet_Clean[Retweet_Clean.retweeted_status == 'Original tweet']"
   ]
  },
  {
   "cell_type": "markdown",
   "metadata": {},
   "source": [
    "## Testing"
   ]
  },
  {
   "cell_type": "code",
   "execution_count": 37,
   "metadata": {},
   "outputs": [
    {
     "data": {
      "text/plain": [
       "Original tweet    2168\n",
       "Name: retweeted_status, dtype: int64"
      ]
     },
     "execution_count": 37,
     "metadata": {},
     "output_type": "execute_result"
    }
   ],
   "source": [
    "Retweet_Clean.retweeted_status.value_counts()"
   ]
  },
  {
   "cell_type": "markdown",
   "metadata": {},
   "source": [
    "## Define - Extracting Numerator and Denominator from the text part and comparing it to the Archive spreadhseet values provided\n",
    "## ** As per review comments **\n",
    "## Coding"
   ]
  },
  {
   "cell_type": "code",
   "execution_count": 38,
   "metadata": {},
   "outputs": [
    {
     "name": "stdout",
     "output_type": "stream",
     "text": [
      "      rating_numerator  chk_rating_numerator\n",
      "45                 5.0                 13.50\n",
      "695               75.0                  9.75\n",
      "763               27.0                 11.27\n",
      "1712              26.0                 11.26\n",
      "Empty DataFrame\n",
      "Columns: [rating_denominator, chk_rating_denominator]\n",
      "Index: []\n"
     ]
    },
    {
     "name": "stderr",
     "output_type": "stream",
     "text": [
      "/opt/conda/lib/python3.6/site-packages/ipykernel_launcher.py:16: SettingWithCopyWarning: \n",
      "A value is trying to be set on a copy of a slice from a DataFrame\n",
      "\n",
      "See the caveats in the documentation: http://pandas.pydata.org/pandas-docs/stable/indexing.html#indexing-view-versus-copy\n",
      "  app.launch_new_instance()\n",
      "/opt/conda/lib/python3.6/site-packages/ipykernel_launcher.py:17: SettingWithCopyWarning: \n",
      "A value is trying to be set on a copy of a slice from a DataFrame\n",
      "\n",
      "See the caveats in the documentation: http://pandas.pydata.org/pandas-docs/stable/indexing.html#indexing-view-versus-copy\n",
      "/opt/conda/lib/python3.6/site-packages/ipykernel_launcher.py:18: SettingWithCopyWarning: \n",
      "A value is trying to be set on a copy of a slice from a DataFrame\n",
      "\n",
      "See the caveats in the documentation: http://pandas.pydata.org/pandas-docs/stable/indexing.html#indexing-view-versus-copy\n",
      "/opt/conda/lib/python3.6/site-packages/ipykernel_launcher.py:19: SettingWithCopyWarning: \n",
      "A value is trying to be set on a copy of a slice from a DataFrame\n",
      "\n",
      "See the caveats in the documentation: http://pandas.pydata.org/pandas-docs/stable/indexing.html#indexing-view-versus-copy\n"
     ]
    }
   ],
   "source": [
    "# Using Regex to check the values of numerator and Denominator in the text part of Archive_Dataframe\n",
    "rating = Archive_Clean.text.str.extract('((?:\\d+\\.)?\\d+)\\/(\\d+)', expand=True)\n",
    "rating.columns = ['rating_numerator', 'rating_denominator']\n",
    "\n",
    "# Making new columns for Numerator and Denominator, later to compare the values with those extracted from Spreadsheet\n",
    "Archive_Clean['chk_rating_numerator'] = rating['rating_numerator'].astype('float64')\n",
    "Archive_Clean['chk_rating_denominator'] = rating['rating_denominator'].astype('float64')\n",
    "\n",
    "# Printing the rows if there are any differences between the Numerator/Denominator values\n",
    "print(Archive_Clean[['rating_numerator','chk_rating_numerator']][Archive_Clean['chk_rating_numerator'] != Archive_Clean['rating_numerator']])\n",
    "print(Archive_Clean[['rating_denominator','chk_rating_denominator']][Archive_Clean['chk_rating_denominator'] != Archive_Clean['rating_denominator']])\n",
    "\n",
    "# As printed out through the above the PRINT statements, there are 4 Numerators which are incorrectly extracted.\n",
    "# There are no difference for denominator though. \n",
    "# Hence we will change the numerator values as needed and avoid denominator.\n",
    "Archive_Clean['rating_numerator'][45] = 13.50\n",
    "Archive_Clean['rating_numerator'][695] = 9.75\n",
    "Archive_Clean['rating_numerator'][763] = 11.27\n",
    "Archive_Clean['rating_numerator'][1712] = 11.26"
   ]
  },
  {
   "cell_type": "markdown",
   "metadata": {},
   "source": [
    "## Testing"
   ]
  },
  {
   "cell_type": "code",
   "execution_count": 39,
   "metadata": {},
   "outputs": [
    {
     "name": "stdout",
     "output_type": "stream",
     "text": [
      "Empty DataFrame\n",
      "Columns: [rating_numerator, chk_rating_numerator]\n",
      "Index: []\n",
      "Empty DataFrame\n",
      "Columns: [rating_denominator, chk_rating_denominator]\n",
      "Index: []\n"
     ]
    }
   ],
   "source": [
    "# Testing to see whether there are any differences left betweet the Numerator/Denominator \n",
    "# Result is eminent that there are no differences\n",
    "\n",
    "print(Archive_Clean[['rating_numerator','chk_rating_numerator']][Archive_Clean['chk_rating_numerator'] != Archive_Clean['rating_numerator']])\n",
    "print(Archive_Clean[['rating_denominator','chk_rating_denominator']][Archive_Clean['chk_rating_denominator'] != Archive_Clean['rating_denominator']])\n",
    "\n",
    "# Dropping chk_rating_numerator and chk_rating_denominator columns as they are not needed anymore\n",
    "Archive_Clean.drop(['chk_rating_numerator','chk_rating_denominator'],axis=1,inplace=True)"
   ]
  },
  {
   "cell_type": "code",
   "execution_count": 40,
   "metadata": {},
   "outputs": [
    {
     "name": "stdout",
     "output_type": "stream",
     "text": [
      "<class 'pandas.core.frame.DataFrame'>\n",
      "Int64Index: 2097 entries, 0 to 2355\n",
      "Data columns (total 17 columns):\n",
      "tweet_id                      2097 non-null object\n",
      "in_reply_to_status_id         0 non-null object\n",
      "in_reply_to_user_id           0 non-null object\n",
      "timestamp                     2097 non-null datetime64[ns]\n",
      "source                        2097 non-null object\n",
      "text                          2097 non-null object\n",
      "retweeted_status_id           0 non-null object\n",
      "retweeted_status_user_id      0 non-null object\n",
      "retweeted_status_timestamp    0 non-null object\n",
      "expanded_urls                 2094 non-null object\n",
      "rating_numerator              2097 non-null float64\n",
      "rating_denominator            2097 non-null float64\n",
      "name                          2097 non-null object\n",
      "doggo                         2097 non-null object\n",
      "floofer                       2097 non-null object\n",
      "pupper                        2097 non-null object\n",
      "puppo                         2097 non-null object\n",
      "dtypes: datetime64[ns](1), float64(2), object(14)\n",
      "memory usage: 374.9+ KB\n"
     ]
    }
   ],
   "source": [
    "Archive_Clean.info()"
   ]
  },
  {
   "cell_type": "markdown",
   "metadata": {},
   "source": [
    "## Define - Checking whether there are any columns in which Numerator is smaller than denominator. Dropping the rows if that is the case\n",
    "## ** As per review comments **\n",
    "## Coding"
   ]
  },
  {
   "cell_type": "code",
   "execution_count": 41,
   "metadata": {},
   "outputs": [],
   "source": [
    "# Checking whether Numerator is less than the denominator. \n",
    "# AS per WeRateDogs handle, rating for one dog should be atleast greater than 10\n",
    "\n",
    "# Dropping the rows in which numerator is less than the denominator\n",
    "Archive_Clean = Archive_Clean[Archive_Clean['rating_numerator'] >= Archive_Clean['rating_denominator']]"
   ]
  },
  {
   "cell_type": "markdown",
   "metadata": {},
   "source": [
    "## Testing"
   ]
  },
  {
   "cell_type": "code",
   "execution_count": 42,
   "metadata": {},
   "outputs": [
    {
     "name": "stdout",
     "output_type": "stream",
     "text": [
      "No. of rows in which Numerator > Denominator is 0\n"
     ]
    }
   ],
   "source": [
    "print('No. of rows in which Numerator > Denominator is '+str(len(Archive_Clean[Archive_Clean['rating_numerator'] < Archive_Clean['rating_denominator']])))"
   ]
  },
  {
   "cell_type": "code",
   "execution_count": 43,
   "metadata": {},
   "outputs": [
    {
     "name": "stdout",
     "output_type": "stream",
     "text": [
      "<class 'pandas.core.frame.DataFrame'>\n",
      "Int64Index: 1677 entries, 0 to 2350\n",
      "Data columns (total 17 columns):\n",
      "tweet_id                      1677 non-null object\n",
      "in_reply_to_status_id         0 non-null object\n",
      "in_reply_to_user_id           0 non-null object\n",
      "timestamp                     1677 non-null datetime64[ns]\n",
      "source                        1677 non-null object\n",
      "text                          1677 non-null object\n",
      "retweeted_status_id           0 non-null object\n",
      "retweeted_status_user_id      0 non-null object\n",
      "retweeted_status_timestamp    0 non-null object\n",
      "expanded_urls                 1674 non-null object\n",
      "rating_numerator              1677 non-null float64\n",
      "rating_denominator            1677 non-null float64\n",
      "name                          1677 non-null object\n",
      "doggo                         1677 non-null object\n",
      "floofer                       1677 non-null object\n",
      "pupper                        1677 non-null object\n",
      "puppo                         1677 non-null object\n",
      "dtypes: datetime64[ns](1), float64(2), object(14)\n",
      "memory usage: 235.8+ KB\n"
     ]
    }
   ],
   "source": [
    "Archive_Clean.info()"
   ]
  },
  {
   "cell_type": "markdown",
   "metadata": {},
   "source": [
    "## Define - In Archive_Dataframe, numerator values cleanup\n",
    "1. Numerator rating 420 needs to be removed as it belongs to snoop dog rather dogs\n",
    "## Coding"
   ]
  },
  {
   "cell_type": "code",
   "execution_count": 44,
   "metadata": {},
   "outputs": [],
   "source": [
    "Archive_Clean = Archive_Clean[Archive_Clean.rating_numerator != 420]"
   ]
  },
  {
   "cell_type": "markdown",
   "metadata": {},
   "source": [
    "## Testing"
   ]
  },
  {
   "cell_type": "code",
   "execution_count": 45,
   "metadata": {},
   "outputs": [
    {
     "data": {
      "text/plain": [
       "12.00      486\n",
       "10.00      436\n",
       "11.00      413\n",
       "13.00      287\n",
       "14.00       38\n",
       "50.00        1\n",
       "13.50        1\n",
       "84.00        1\n",
       "24.00        1\n",
       "204.00       1\n",
       "121.00       1\n",
       "99.00        1\n",
       "60.00        1\n",
       "44.00        1\n",
       "144.00       1\n",
       "88.00        1\n",
       "11.26        1\n",
       "165.00       1\n",
       "11.27        1\n",
       "1776.00      1\n",
       "80.00        1\n",
       "Name: rating_numerator, dtype: int64"
      ]
     },
     "execution_count": 45,
     "metadata": {},
     "output_type": "execute_result"
    }
   ],
   "source": [
    "Archive_Clean.rating_numerator.value_counts()"
   ]
  },
  {
   "cell_type": "markdown",
   "metadata": {},
   "source": [
    "## Define - In Archive_Dataframe denominator value as 7\n",
    "1. Denominator having value 7 needs to be removed as it is mentioned incorrectly\n",
    "## Coding"
   ]
  },
  {
   "cell_type": "code",
   "execution_count": 46,
   "metadata": {},
   "outputs": [],
   "source": [
    "Archive_Clean = Archive_Clean[Archive_Clean.rating_denominator != 7]"
   ]
  },
  {
   "cell_type": "markdown",
   "metadata": {},
   "source": [
    "## Testing"
   ]
  },
  {
   "cell_type": "code",
   "execution_count": 47,
   "metadata": {},
   "outputs": [
    {
     "data": {
      "text/plain": [
       "10.0     1664\n",
       "80.0        2\n",
       "50.0        2\n",
       "150.0       1\n",
       "120.0       1\n",
       "110.0       1\n",
       "40.0        1\n",
       "90.0        1\n",
       "170.0       1\n",
       "70.0        1\n",
       "Name: rating_denominator, dtype: int64"
      ]
     },
     "execution_count": 47,
     "metadata": {},
     "output_type": "execute_result"
    }
   ],
   "source": [
    "Archive_Clean.rating_denominator.value_counts()"
   ]
  },
  {
   "cell_type": "markdown",
   "metadata": {},
   "source": [
    "# Tidiness Issues"
   ]
  },
  {
   "cell_type": "markdown",
   "metadata": {},
   "source": [
    "## Define - Dropping unwanted columns from Archive Dataframe as already we have dropped the rows which were replied or retweeted\n",
    "## Coding"
   ]
  },
  {
   "cell_type": "code",
   "execution_count": 48,
   "metadata": {},
   "outputs": [],
   "source": [
    "Archive_Clean.drop(['in_reply_to_status_id','in_reply_to_user_id','retweeted_status_id','retweeted_status_user_id','retweeted_status_timestamp'],axis=1,inplace=True)"
   ]
  },
  {
   "cell_type": "markdown",
   "metadata": {},
   "source": [
    "## Testing"
   ]
  },
  {
   "cell_type": "code",
   "execution_count": 49,
   "metadata": {},
   "outputs": [
    {
     "data": {
      "text/html": [
       "<div>\n",
       "<style scoped>\n",
       "    .dataframe tbody tr th:only-of-type {\n",
       "        vertical-align: middle;\n",
       "    }\n",
       "\n",
       "    .dataframe tbody tr th {\n",
       "        vertical-align: top;\n",
       "    }\n",
       "\n",
       "    .dataframe thead th {\n",
       "        text-align: right;\n",
       "    }\n",
       "</style>\n",
       "<table border=\"1\" class=\"dataframe\">\n",
       "  <thead>\n",
       "    <tr style=\"text-align: right;\">\n",
       "      <th></th>\n",
       "      <th>tweet_id</th>\n",
       "      <th>timestamp</th>\n",
       "      <th>source</th>\n",
       "      <th>text</th>\n",
       "      <th>expanded_urls</th>\n",
       "      <th>rating_numerator</th>\n",
       "      <th>rating_denominator</th>\n",
       "      <th>name</th>\n",
       "      <th>doggo</th>\n",
       "      <th>floofer</th>\n",
       "      <th>pupper</th>\n",
       "      <th>puppo</th>\n",
       "    </tr>\n",
       "  </thead>\n",
       "  <tbody>\n",
       "    <tr>\n",
       "      <th>0</th>\n",
       "      <td>892420643555336193</td>\n",
       "      <td>2017-08-01 16:23:56</td>\n",
       "      <td>Twitter for iPhone</td>\n",
       "      <td>This is Phineas. He's a mystical boy. Only eve...</td>\n",
       "      <td>https://twitter.com/dog_rates/status/892420643...</td>\n",
       "      <td>13.0</td>\n",
       "      <td>10.0</td>\n",
       "      <td>Phineas</td>\n",
       "      <td>None</td>\n",
       "      <td>None</td>\n",
       "      <td>None</td>\n",
       "      <td>None</td>\n",
       "    </tr>\n",
       "    <tr>\n",
       "      <th>1</th>\n",
       "      <td>892177421306343426</td>\n",
       "      <td>2017-08-01 00:17:27</td>\n",
       "      <td>Twitter for iPhone</td>\n",
       "      <td>This is Tilly. She's just checking pup on you....</td>\n",
       "      <td>https://twitter.com/dog_rates/status/892177421...</td>\n",
       "      <td>13.0</td>\n",
       "      <td>10.0</td>\n",
       "      <td>Tilly</td>\n",
       "      <td>None</td>\n",
       "      <td>None</td>\n",
       "      <td>None</td>\n",
       "      <td>None</td>\n",
       "    </tr>\n",
       "    <tr>\n",
       "      <th>2</th>\n",
       "      <td>891815181378084864</td>\n",
       "      <td>2017-07-31 00:18:03</td>\n",
       "      <td>Twitter for iPhone</td>\n",
       "      <td>This is Archie. He is a rare Norwegian Pouncin...</td>\n",
       "      <td>https://twitter.com/dog_rates/status/891815181...</td>\n",
       "      <td>12.0</td>\n",
       "      <td>10.0</td>\n",
       "      <td>Archie</td>\n",
       "      <td>None</td>\n",
       "      <td>None</td>\n",
       "      <td>None</td>\n",
       "      <td>None</td>\n",
       "    </tr>\n",
       "    <tr>\n",
       "      <th>3</th>\n",
       "      <td>891689557279858688</td>\n",
       "      <td>2017-07-30 15:58:51</td>\n",
       "      <td>Twitter for iPhone</td>\n",
       "      <td>This is Darla. She commenced a snooze mid meal...</td>\n",
       "      <td>https://twitter.com/dog_rates/status/891689557...</td>\n",
       "      <td>13.0</td>\n",
       "      <td>10.0</td>\n",
       "      <td>Darla</td>\n",
       "      <td>None</td>\n",
       "      <td>None</td>\n",
       "      <td>None</td>\n",
       "      <td>None</td>\n",
       "    </tr>\n",
       "    <tr>\n",
       "      <th>4</th>\n",
       "      <td>891327558926688256</td>\n",
       "      <td>2017-07-29 16:00:24</td>\n",
       "      <td>Twitter for iPhone</td>\n",
       "      <td>This is Franklin. He would like you to stop ca...</td>\n",
       "      <td>https://twitter.com/dog_rates/status/891327558...</td>\n",
       "      <td>12.0</td>\n",
       "      <td>10.0</td>\n",
       "      <td>Franklin</td>\n",
       "      <td>None</td>\n",
       "      <td>None</td>\n",
       "      <td>None</td>\n",
       "      <td>None</td>\n",
       "    </tr>\n",
       "  </tbody>\n",
       "</table>\n",
       "</div>"
      ],
      "text/plain": [
       "             tweet_id           timestamp              source  \\\n",
       "0  892420643555336193 2017-08-01 16:23:56  Twitter for iPhone   \n",
       "1  892177421306343426 2017-08-01 00:17:27  Twitter for iPhone   \n",
       "2  891815181378084864 2017-07-31 00:18:03  Twitter for iPhone   \n",
       "3  891689557279858688 2017-07-30 15:58:51  Twitter for iPhone   \n",
       "4  891327558926688256 2017-07-29 16:00:24  Twitter for iPhone   \n",
       "\n",
       "                                                text  \\\n",
       "0  This is Phineas. He's a mystical boy. Only eve...   \n",
       "1  This is Tilly. She's just checking pup on you....   \n",
       "2  This is Archie. He is a rare Norwegian Pouncin...   \n",
       "3  This is Darla. She commenced a snooze mid meal...   \n",
       "4  This is Franklin. He would like you to stop ca...   \n",
       "\n",
       "                                       expanded_urls  rating_numerator  \\\n",
       "0  https://twitter.com/dog_rates/status/892420643...              13.0   \n",
       "1  https://twitter.com/dog_rates/status/892177421...              13.0   \n",
       "2  https://twitter.com/dog_rates/status/891815181...              12.0   \n",
       "3  https://twitter.com/dog_rates/status/891689557...              13.0   \n",
       "4  https://twitter.com/dog_rates/status/891327558...              12.0   \n",
       "\n",
       "   rating_denominator      name doggo floofer pupper puppo  \n",
       "0                10.0   Phineas  None    None   None  None  \n",
       "1                10.0     Tilly  None    None   None  None  \n",
       "2                10.0    Archie  None    None   None  None  \n",
       "3                10.0     Darla  None    None   None  None  \n",
       "4                10.0  Franklin  None    None   None  None  "
      ]
     },
     "execution_count": 49,
     "metadata": {},
     "output_type": "execute_result"
    }
   ],
   "source": [
    "Archive_Clean.head()"
   ]
  },
  {
   "cell_type": "markdown",
   "metadata": {},
   "source": [
    "## Define - Dropping Individual Predictions columns from Prediction_Dataframe\n",
    "## Coding"
   ]
  },
  {
   "cell_type": "code",
   "execution_count": 50,
   "metadata": {},
   "outputs": [],
   "source": [
    "Prediction_Clean.drop(['img_num','p1','p1_conf','p1_dog','p2','p2_conf','p2_dog','p3','p3_conf','p3_dog'],axis=1 , inplace=True)"
   ]
  },
  {
   "cell_type": "markdown",
   "metadata": {},
   "source": [
    "## Testing"
   ]
  },
  {
   "cell_type": "code",
   "execution_count": 51,
   "metadata": {},
   "outputs": [
    {
     "data": {
      "text/html": [
       "<div>\n",
       "<style scoped>\n",
       "    .dataframe tbody tr th:only-of-type {\n",
       "        vertical-align: middle;\n",
       "    }\n",
       "\n",
       "    .dataframe tbody tr th {\n",
       "        vertical-align: top;\n",
       "    }\n",
       "\n",
       "    .dataframe thead th {\n",
       "        text-align: right;\n",
       "    }\n",
       "</style>\n",
       "<table border=\"1\" class=\"dataframe\">\n",
       "  <thead>\n",
       "    <tr style=\"text-align: right;\">\n",
       "      <th></th>\n",
       "      <th>tweet_id</th>\n",
       "      <th>jpg_url</th>\n",
       "      <th>breed</th>\n",
       "      <th>confidence</th>\n",
       "    </tr>\n",
       "  </thead>\n",
       "  <tbody>\n",
       "    <tr>\n",
       "      <th>0</th>\n",
       "      <td>666020888022790149</td>\n",
       "      <td>https://pbs.twimg.com/media/CT4udn0WwAA0aMy.jpg</td>\n",
       "      <td>Welsh springer spaniel</td>\n",
       "      <td>0.465074</td>\n",
       "    </tr>\n",
       "    <tr>\n",
       "      <th>1</th>\n",
       "      <td>666029285002620928</td>\n",
       "      <td>https://pbs.twimg.com/media/CT42GRgUYAA5iDo.jpg</td>\n",
       "      <td>redbone</td>\n",
       "      <td>0.506826</td>\n",
       "    </tr>\n",
       "    <tr>\n",
       "      <th>2</th>\n",
       "      <td>666033412701032449</td>\n",
       "      <td>https://pbs.twimg.com/media/CT4521TWwAEvMyu.jpg</td>\n",
       "      <td>German shepherd</td>\n",
       "      <td>0.596461</td>\n",
       "    </tr>\n",
       "    <tr>\n",
       "      <th>3</th>\n",
       "      <td>666044226329800704</td>\n",
       "      <td>https://pbs.twimg.com/media/CT5Dr8HUEAA-lEu.jpg</td>\n",
       "      <td>Rhodesian ridgeback</td>\n",
       "      <td>0.408143</td>\n",
       "    </tr>\n",
       "    <tr>\n",
       "      <th>4</th>\n",
       "      <td>666049248165822465</td>\n",
       "      <td>https://pbs.twimg.com/media/CT5IQmsXIAAKY4A.jpg</td>\n",
       "      <td>miniature pinscher</td>\n",
       "      <td>0.560311</td>\n",
       "    </tr>\n",
       "  </tbody>\n",
       "</table>\n",
       "</div>"
      ],
      "text/plain": [
       "             tweet_id                                          jpg_url  \\\n",
       "0  666020888022790149  https://pbs.twimg.com/media/CT4udn0WwAA0aMy.jpg   \n",
       "1  666029285002620928  https://pbs.twimg.com/media/CT42GRgUYAA5iDo.jpg   \n",
       "2  666033412701032449  https://pbs.twimg.com/media/CT4521TWwAEvMyu.jpg   \n",
       "3  666044226329800704  https://pbs.twimg.com/media/CT5Dr8HUEAA-lEu.jpg   \n",
       "4  666049248165822465  https://pbs.twimg.com/media/CT5IQmsXIAAKY4A.jpg   \n",
       "\n",
       "                    breed  confidence  \n",
       "0  Welsh springer spaniel    0.465074  \n",
       "1                 redbone    0.506826  \n",
       "2         German shepherd    0.596461  \n",
       "3     Rhodesian ridgeback    0.408143  \n",
       "4      miniature pinscher    0.560311  "
      ]
     },
     "execution_count": 51,
     "metadata": {},
     "output_type": "execute_result"
    }
   ],
   "source": [
    "Prediction_Clean.head()"
   ]
  },
  {
   "cell_type": "markdown",
   "metadata": {},
   "source": [
    "## Define - Dog Type columns should be re-structured into one columns to show the value in one.\n",
    "## ** As per review comments handled multiple Dog Types **\n",
    "## Coding"
   ]
  },
  {
   "cell_type": "code",
   "execution_count": 52,
   "metadata": {},
   "outputs": [
    {
     "data": {
      "text/html": [
       "<div>\n",
       "<style scoped>\n",
       "    .dataframe tbody tr th:only-of-type {\n",
       "        vertical-align: middle;\n",
       "    }\n",
       "\n",
       "    .dataframe tbody tr th {\n",
       "        vertical-align: top;\n",
       "    }\n",
       "\n",
       "    .dataframe thead th {\n",
       "        text-align: right;\n",
       "    }\n",
       "</style>\n",
       "<table border=\"1\" class=\"dataframe\">\n",
       "  <thead>\n",
       "    <tr style=\"text-align: right;\">\n",
       "      <th></th>\n",
       "      <th>tweet_id</th>\n",
       "      <th>timestamp</th>\n",
       "      <th>source</th>\n",
       "      <th>text</th>\n",
       "      <th>expanded_urls</th>\n",
       "      <th>rating_numerator</th>\n",
       "      <th>rating_denominator</th>\n",
       "      <th>name</th>\n",
       "      <th>doggo</th>\n",
       "      <th>floofer</th>\n",
       "      <th>pupper</th>\n",
       "      <th>puppo</th>\n",
       "    </tr>\n",
       "  </thead>\n",
       "  <tbody>\n",
       "    <tr>\n",
       "      <th>0</th>\n",
       "      <td>892420643555336193</td>\n",
       "      <td>2017-08-01 16:23:56</td>\n",
       "      <td>Twitter for iPhone</td>\n",
       "      <td>This is Phineas. He's a mystical boy. Only eve...</td>\n",
       "      <td>https://twitter.com/dog_rates/status/892420643...</td>\n",
       "      <td>13.0</td>\n",
       "      <td>10.0</td>\n",
       "      <td>Phineas</td>\n",
       "      <td>None</td>\n",
       "      <td>None</td>\n",
       "      <td>None</td>\n",
       "      <td>None</td>\n",
       "    </tr>\n",
       "    <tr>\n",
       "      <th>1</th>\n",
       "      <td>892177421306343426</td>\n",
       "      <td>2017-08-01 00:17:27</td>\n",
       "      <td>Twitter for iPhone</td>\n",
       "      <td>This is Tilly. She's just checking pup on you....</td>\n",
       "      <td>https://twitter.com/dog_rates/status/892177421...</td>\n",
       "      <td>13.0</td>\n",
       "      <td>10.0</td>\n",
       "      <td>Tilly</td>\n",
       "      <td>None</td>\n",
       "      <td>None</td>\n",
       "      <td>None</td>\n",
       "      <td>None</td>\n",
       "    </tr>\n",
       "    <tr>\n",
       "      <th>2</th>\n",
       "      <td>891815181378084864</td>\n",
       "      <td>2017-07-31 00:18:03</td>\n",
       "      <td>Twitter for iPhone</td>\n",
       "      <td>This is Archie. He is a rare Norwegian Pouncin...</td>\n",
       "      <td>https://twitter.com/dog_rates/status/891815181...</td>\n",
       "      <td>12.0</td>\n",
       "      <td>10.0</td>\n",
       "      <td>Archie</td>\n",
       "      <td>None</td>\n",
       "      <td>None</td>\n",
       "      <td>None</td>\n",
       "      <td>None</td>\n",
       "    </tr>\n",
       "    <tr>\n",
       "      <th>3</th>\n",
       "      <td>891689557279858688</td>\n",
       "      <td>2017-07-30 15:58:51</td>\n",
       "      <td>Twitter for iPhone</td>\n",
       "      <td>This is Darla. She commenced a snooze mid meal...</td>\n",
       "      <td>https://twitter.com/dog_rates/status/891689557...</td>\n",
       "      <td>13.0</td>\n",
       "      <td>10.0</td>\n",
       "      <td>Darla</td>\n",
       "      <td>None</td>\n",
       "      <td>None</td>\n",
       "      <td>None</td>\n",
       "      <td>None</td>\n",
       "    </tr>\n",
       "    <tr>\n",
       "      <th>4</th>\n",
       "      <td>891327558926688256</td>\n",
       "      <td>2017-07-29 16:00:24</td>\n",
       "      <td>Twitter for iPhone</td>\n",
       "      <td>This is Franklin. He would like you to stop ca...</td>\n",
       "      <td>https://twitter.com/dog_rates/status/891327558...</td>\n",
       "      <td>12.0</td>\n",
       "      <td>10.0</td>\n",
       "      <td>Franklin</td>\n",
       "      <td>None</td>\n",
       "      <td>None</td>\n",
       "      <td>None</td>\n",
       "      <td>None</td>\n",
       "    </tr>\n",
       "  </tbody>\n",
       "</table>\n",
       "</div>"
      ],
      "text/plain": [
       "             tweet_id           timestamp              source  \\\n",
       "0  892420643555336193 2017-08-01 16:23:56  Twitter for iPhone   \n",
       "1  892177421306343426 2017-08-01 00:17:27  Twitter for iPhone   \n",
       "2  891815181378084864 2017-07-31 00:18:03  Twitter for iPhone   \n",
       "3  891689557279858688 2017-07-30 15:58:51  Twitter for iPhone   \n",
       "4  891327558926688256 2017-07-29 16:00:24  Twitter for iPhone   \n",
       "\n",
       "                                                text  \\\n",
       "0  This is Phineas. He's a mystical boy. Only eve...   \n",
       "1  This is Tilly. She's just checking pup on you....   \n",
       "2  This is Archie. He is a rare Norwegian Pouncin...   \n",
       "3  This is Darla. She commenced a snooze mid meal...   \n",
       "4  This is Franklin. He would like you to stop ca...   \n",
       "\n",
       "                                       expanded_urls  rating_numerator  \\\n",
       "0  https://twitter.com/dog_rates/status/892420643...              13.0   \n",
       "1  https://twitter.com/dog_rates/status/892177421...              13.0   \n",
       "2  https://twitter.com/dog_rates/status/891815181...              12.0   \n",
       "3  https://twitter.com/dog_rates/status/891689557...              13.0   \n",
       "4  https://twitter.com/dog_rates/status/891327558...              12.0   \n",
       "\n",
       "   rating_denominator      name doggo floofer pupper puppo  \n",
       "0                10.0   Phineas  None    None   None  None  \n",
       "1                10.0     Tilly  None    None   None  None  \n",
       "2                10.0    Archie  None    None   None  None  \n",
       "3                10.0     Darla  None    None   None  None  \n",
       "4                10.0  Franklin  None    None   None  None  "
      ]
     },
     "execution_count": 52,
     "metadata": {},
     "output_type": "execute_result"
    }
   ],
   "source": [
    "Archive_Clean.head()"
   ]
  },
  {
   "cell_type": "code",
   "execution_count": 53,
   "metadata": {},
   "outputs": [],
   "source": [
    "# Older code where I have handled single Dog Type only. \n",
    "# Based upon review comments I have changed the code to handle all the Dog Types\n",
    "\n",
    "'''\n",
    "# Setting the condition for checking whether the columns should have which Dog Type\n",
    "conditions = [(Archive_Clean['doggo'] == 'doggo'),\n",
    "              (Archive_Clean['floofer'] == 'floofer'),\n",
    "              (Archive_Clean['pupper'] == 'pupper'),\n",
    "              (Archive_Clean['puppo'] == 'puppo')]\n",
    "\n",
    "# set the choice order based on the selection conditions for Dog Type\n",
    "Dog_Type = [Archive_Clean['doggo'], \n",
    "                 Archive_Clean['floofer'],\n",
    "                 Archive_Clean['pupper'],\n",
    "                 Archive_Clean['puppo']]\n",
    "\n",
    "# select the Dog Type based on the first successful condition\n",
    "Archive_Clean['Dog_Type'] = np.select(conditions, Dog_Type, default = 'none')\n",
    "'''\n",
    "\n",
    "# Handling Types of the dogs\n",
    "Archive_Clean.doggo.replace('None', '', inplace=True)\n",
    "Archive_Clean.floofer.replace('None', '', inplace=True)\n",
    "Archive_Clean.pupper.replace('None', '', inplace=True)\n",
    "Archive_Clean.puppo.replace('None', '', inplace=True)\n",
    "\n",
    "# Merging into columns\n",
    "Archive_Clean['Dog_Type'] = Archive_Clean.doggo + Archive_Clean.floofer + Archive_Clean.pupper + Archive_Clean.puppo\n",
    "\n",
    "# Handling Dog Types\n",
    "Archive_Clean.loc[Archive_Clean.Dog_Type == 'doggo','Dog_Type'] = 'doggo'\n",
    "Archive_Clean.loc[Archive_Clean.Dog_Type == 'floofer','Dog_Type'] = 'floofer'\n",
    "Archive_Clean.loc[Archive_Clean.Dog_Type == 'pupper','Dog_Type'] = 'pupper'\n",
    "Archive_Clean.loc[Archive_Clean.Dog_Type == 'puppo','Dog_Type'] = 'puppo'\n",
    "Archive_Clean.loc[Archive_Clean.Dog_Type == 'doggopupper','Dog_Type'] = 'doggo, pupper'\n",
    "Archive_Clean.loc[Archive_Clean.Dog_Type == 'doggofloofer','Dog_Type'] = 'doggo, floofer'\n",
    "Archive_Clean.loc[Archive_Clean.Dog_Type == 'doggopuppo','Dog_Type'] = 'doggo, puppo'\n",
    "\n",
    "# Handling spaces in Dog Type\n",
    "Archive_Clean.loc[Archive_Clean.Dog_Type == '', 'Dog_Type'] = np.nan"
   ]
  },
  {
   "cell_type": "code",
   "execution_count": 54,
   "metadata": {},
   "outputs": [],
   "source": [
    "Archive_Clean.drop(['doggo','floofer','pupper','puppo'],axis=1,inplace=True)"
   ]
  },
  {
   "cell_type": "markdown",
   "metadata": {},
   "source": [
    "## Testing"
   ]
  },
  {
   "cell_type": "code",
   "execution_count": 55,
   "metadata": {},
   "outputs": [
    {
     "data": {
      "text/plain": [
       "pupper            182\n",
       "doggo              69\n",
       "puppo              22\n",
       "floofer             9\n",
       "doggo, pupper       8\n",
       "doggo, floofer      1\n",
       "doggo, puppo        1\n",
       "Name: Dog_Type, dtype: int64"
      ]
     },
     "execution_count": 55,
     "metadata": {},
     "output_type": "execute_result"
    }
   ],
   "source": [
    "Archive_Clean.Dog_Type.value_counts()"
   ]
  },
  {
   "cell_type": "code",
   "execution_count": 56,
   "metadata": {},
   "outputs": [
    {
     "data": {
      "text/html": [
       "<div>\n",
       "<style scoped>\n",
       "    .dataframe tbody tr th:only-of-type {\n",
       "        vertical-align: middle;\n",
       "    }\n",
       "\n",
       "    .dataframe tbody tr th {\n",
       "        vertical-align: top;\n",
       "    }\n",
       "\n",
       "    .dataframe thead th {\n",
       "        text-align: right;\n",
       "    }\n",
       "</style>\n",
       "<table border=\"1\" class=\"dataframe\">\n",
       "  <thead>\n",
       "    <tr style=\"text-align: right;\">\n",
       "      <th></th>\n",
       "      <th>tweet_id</th>\n",
       "      <th>timestamp</th>\n",
       "      <th>source</th>\n",
       "      <th>text</th>\n",
       "      <th>expanded_urls</th>\n",
       "      <th>rating_numerator</th>\n",
       "      <th>rating_denominator</th>\n",
       "      <th>name</th>\n",
       "      <th>Dog_Type</th>\n",
       "    </tr>\n",
       "  </thead>\n",
       "  <tbody>\n",
       "    <tr>\n",
       "      <th>0</th>\n",
       "      <td>892420643555336193</td>\n",
       "      <td>2017-08-01 16:23:56</td>\n",
       "      <td>Twitter for iPhone</td>\n",
       "      <td>This is Phineas. He's a mystical boy. Only eve...</td>\n",
       "      <td>https://twitter.com/dog_rates/status/892420643...</td>\n",
       "      <td>13.0</td>\n",
       "      <td>10.0</td>\n",
       "      <td>Phineas</td>\n",
       "      <td>NaN</td>\n",
       "    </tr>\n",
       "    <tr>\n",
       "      <th>1</th>\n",
       "      <td>892177421306343426</td>\n",
       "      <td>2017-08-01 00:17:27</td>\n",
       "      <td>Twitter for iPhone</td>\n",
       "      <td>This is Tilly. She's just checking pup on you....</td>\n",
       "      <td>https://twitter.com/dog_rates/status/892177421...</td>\n",
       "      <td>13.0</td>\n",
       "      <td>10.0</td>\n",
       "      <td>Tilly</td>\n",
       "      <td>NaN</td>\n",
       "    </tr>\n",
       "    <tr>\n",
       "      <th>2</th>\n",
       "      <td>891815181378084864</td>\n",
       "      <td>2017-07-31 00:18:03</td>\n",
       "      <td>Twitter for iPhone</td>\n",
       "      <td>This is Archie. He is a rare Norwegian Pouncin...</td>\n",
       "      <td>https://twitter.com/dog_rates/status/891815181...</td>\n",
       "      <td>12.0</td>\n",
       "      <td>10.0</td>\n",
       "      <td>Archie</td>\n",
       "      <td>NaN</td>\n",
       "    </tr>\n",
       "    <tr>\n",
       "      <th>3</th>\n",
       "      <td>891689557279858688</td>\n",
       "      <td>2017-07-30 15:58:51</td>\n",
       "      <td>Twitter for iPhone</td>\n",
       "      <td>This is Darla. She commenced a snooze mid meal...</td>\n",
       "      <td>https://twitter.com/dog_rates/status/891689557...</td>\n",
       "      <td>13.0</td>\n",
       "      <td>10.0</td>\n",
       "      <td>Darla</td>\n",
       "      <td>NaN</td>\n",
       "    </tr>\n",
       "    <tr>\n",
       "      <th>4</th>\n",
       "      <td>891327558926688256</td>\n",
       "      <td>2017-07-29 16:00:24</td>\n",
       "      <td>Twitter for iPhone</td>\n",
       "      <td>This is Franklin. He would like you to stop ca...</td>\n",
       "      <td>https://twitter.com/dog_rates/status/891327558...</td>\n",
       "      <td>12.0</td>\n",
       "      <td>10.0</td>\n",
       "      <td>Franklin</td>\n",
       "      <td>NaN</td>\n",
       "    </tr>\n",
       "  </tbody>\n",
       "</table>\n",
       "</div>"
      ],
      "text/plain": [
       "             tweet_id           timestamp              source  \\\n",
       "0  892420643555336193 2017-08-01 16:23:56  Twitter for iPhone   \n",
       "1  892177421306343426 2017-08-01 00:17:27  Twitter for iPhone   \n",
       "2  891815181378084864 2017-07-31 00:18:03  Twitter for iPhone   \n",
       "3  891689557279858688 2017-07-30 15:58:51  Twitter for iPhone   \n",
       "4  891327558926688256 2017-07-29 16:00:24  Twitter for iPhone   \n",
       "\n",
       "                                                text  \\\n",
       "0  This is Phineas. He's a mystical boy. Only eve...   \n",
       "1  This is Tilly. She's just checking pup on you....   \n",
       "2  This is Archie. He is a rare Norwegian Pouncin...   \n",
       "3  This is Darla. She commenced a snooze mid meal...   \n",
       "4  This is Franklin. He would like you to stop ca...   \n",
       "\n",
       "                                       expanded_urls  rating_numerator  \\\n",
       "0  https://twitter.com/dog_rates/status/892420643...              13.0   \n",
       "1  https://twitter.com/dog_rates/status/892177421...              13.0   \n",
       "2  https://twitter.com/dog_rates/status/891815181...              12.0   \n",
       "3  https://twitter.com/dog_rates/status/891689557...              13.0   \n",
       "4  https://twitter.com/dog_rates/status/891327558...              12.0   \n",
       "\n",
       "   rating_denominator      name Dog_Type  \n",
       "0                10.0   Phineas      NaN  \n",
       "1                10.0     Tilly      NaN  \n",
       "2                10.0    Archie      NaN  \n",
       "3                10.0     Darla      NaN  \n",
       "4                10.0  Franklin      NaN  "
      ]
     },
     "execution_count": 56,
     "metadata": {},
     "output_type": "execute_result"
    }
   ],
   "source": [
    "Archive_Clean.head()"
   ]
  },
  {
   "cell_type": "markdown",
   "metadata": {},
   "source": [
    "## Define - Dropping rows in which names are mentioned as lower case\n",
    "## ** As per review comments **\n",
    "## Coding"
   ]
  },
  {
   "cell_type": "code",
   "execution_count": 57,
   "metadata": {},
   "outputs": [
    {
     "data": {
      "text/plain": [
       "a              30\n",
       "actually        2\n",
       "all             1\n",
       "an              2\n",
       "by              1\n",
       "getting         1\n",
       "his             1\n",
       "incredibly      1\n",
       "infuriating     1\n",
       "just            3\n",
       "life            1\n",
       "light           1\n",
       "mad             1\n",
       "my              1\n",
       "not             2\n",
       "officially      1\n",
       "old             1\n",
       "one             3\n",
       "quite           2\n",
       "space           1\n",
       "such            1\n",
       "the             5\n",
       "this            1\n",
       "very            3\n",
       "Name: name, dtype: int64"
      ]
     },
     "execution_count": 57,
     "metadata": {},
     "output_type": "execute_result"
    }
   ],
   "source": [
    "Archive_Clean[Archive_Clean.name.str.contains('^[a-z]', regex = True)].name.value_counts().sort_index()"
   ]
  },
  {
   "cell_type": "code",
   "execution_count": 58,
   "metadata": {},
   "outputs": [],
   "source": [
    "# Dropping the above stated values as they dont seems to be correct names all in all\n",
    "Archive_Clean = Archive_Clean[Archive_Clean.name.str.contains('^[a-z]', regex = True) == False]"
   ]
  },
  {
   "cell_type": "markdown",
   "metadata": {},
   "source": [
    "## Testing"
   ]
  },
  {
   "cell_type": "code",
   "execution_count": 59,
   "metadata": {},
   "outputs": [
    {
     "data": {
      "text/plain": [
       "Series([], Name: name, dtype: int64)"
      ]
     },
     "execution_count": 59,
     "metadata": {},
     "output_type": "execute_result"
    }
   ],
   "source": [
    "Archive_Clean[Archive_Clean.name.str.contains('^[a-z]', regex = True)].name.value_counts().sort_index()"
   ]
  },
  {
   "cell_type": "markdown",
   "metadata": {},
   "source": [
    "## Define - Merging All the Dataframe : Archive, Predictions and Retweet\n",
    "## Coding"
   ]
  },
  {
   "cell_type": "code",
   "execution_count": 60,
   "metadata": {},
   "outputs": [],
   "source": [
    "twitter_archive_master = Archive_Clean.merge(Prediction_Clean,on='tweet_id')\n",
    "twitter_archive_master = twitter_archive_master.merge(Retweet_Clean,on='tweet_id')"
   ]
  },
  {
   "cell_type": "code",
   "execution_count": 61,
   "metadata": {},
   "outputs": [
    {
     "name": "stdout",
     "output_type": "stream",
     "text": [
      "<class 'pandas.core.frame.DataFrame'>\n",
      "Int64Index: 1488 entries, 0 to 1487\n",
      "Data columns (total 16 columns):\n",
      "tweet_id              1488 non-null object\n",
      "timestamp             1488 non-null datetime64[ns]\n",
      "source                1488 non-null object\n",
      "text                  1488 non-null object\n",
      "expanded_urls         1488 non-null object\n",
      "rating_numerator      1488 non-null float64\n",
      "rating_denominator    1488 non-null float64\n",
      "name                  1488 non-null object\n",
      "Dog_Type              247 non-null object\n",
      "jpg_url               1488 non-null object\n",
      "breed                 1488 non-null object\n",
      "confidence            1488 non-null float64\n",
      "retweet_count         1488 non-null int64\n",
      "favorite_count        1488 non-null int64\n",
      "retweeted_status      1488 non-null object\n",
      "url                   1488 non-null object\n",
      "dtypes: datetime64[ns](1), float64(3), int64(2), object(10)\n",
      "memory usage: 197.6+ KB\n"
     ]
    }
   ],
   "source": [
    "twitter_archive_master.info(5)"
   ]
  },
  {
   "cell_type": "code",
   "execution_count": 62,
   "metadata": {},
   "outputs": [],
   "source": [
    "twitter_archive_master.to_csv('twitter_archive_master.csv',index=False)"
   ]
  },
  {
   "cell_type": "markdown",
   "metadata": {},
   "source": [
    "# Visualization\n",
    "1. Most Popular and Unpopular dog within this twitter handle\n",
    "2. Most Tweets contributing to this handle is from which source\n",
    "3. Dog with maximum number of Likes and Retweets\n",
    "4. Most popular dog type predicted through Predictions file provided"
   ]
  },
  {
   "cell_type": "code",
   "execution_count": 63,
   "metadata": {},
   "outputs": [],
   "source": [
    "Analyze_Dataframe = pd.read_csv('twitter_archive_master.csv',index_col=None)"
   ]
  },
  {
   "cell_type": "code",
   "execution_count": 64,
   "metadata": {},
   "outputs": [
    {
     "data": {
      "text/html": [
       "<div>\n",
       "<style scoped>\n",
       "    .dataframe tbody tr th:only-of-type {\n",
       "        vertical-align: middle;\n",
       "    }\n",
       "\n",
       "    .dataframe tbody tr th {\n",
       "        vertical-align: top;\n",
       "    }\n",
       "\n",
       "    .dataframe thead th {\n",
       "        text-align: right;\n",
       "    }\n",
       "</style>\n",
       "<table border=\"1\" class=\"dataframe\">\n",
       "  <thead>\n",
       "    <tr style=\"text-align: right;\">\n",
       "      <th></th>\n",
       "      <th>tweet_id</th>\n",
       "      <th>timestamp</th>\n",
       "      <th>source</th>\n",
       "      <th>text</th>\n",
       "      <th>expanded_urls</th>\n",
       "      <th>rating_numerator</th>\n",
       "      <th>rating_denominator</th>\n",
       "      <th>name</th>\n",
       "      <th>Dog_Type</th>\n",
       "      <th>jpg_url</th>\n",
       "      <th>breed</th>\n",
       "      <th>confidence</th>\n",
       "      <th>retweet_count</th>\n",
       "      <th>favorite_count</th>\n",
       "      <th>retweeted_status</th>\n",
       "      <th>url</th>\n",
       "    </tr>\n",
       "  </thead>\n",
       "  <tbody>\n",
       "    <tr>\n",
       "      <th>422</th>\n",
       "      <td>797971864723324932</td>\n",
       "      <td>2016-11-14 01:18:12</td>\n",
       "      <td>Twitter for iPhone</td>\n",
       "      <td>Here's a helicopter pupper. He takes off at ra...</td>\n",
       "      <td>https://twitter.com/dog_rates/status/797971864...</td>\n",
       "      <td>12.0</td>\n",
       "      <td>10.0</td>\n",
       "      <td>None</td>\n",
       "      <td>pupper</td>\n",
       "      <td>https://pbs.twimg.com/media/CxL3IWeVEAAAIE2.jpg</td>\n",
       "      <td>American Staffordshire terrier</td>\n",
       "      <td>0.489845</td>\n",
       "      <td>3030</td>\n",
       "      <td>11360</td>\n",
       "      <td>Original tweet</td>\n",
       "      <td>https://t.co/GRWPgNKt2z</td>\n",
       "    </tr>\n",
       "    <tr>\n",
       "      <th>44</th>\n",
       "      <td>882268110199369728</td>\n",
       "      <td>2017-07-04 16:01:23</td>\n",
       "      <td>Twitter for iPhone</td>\n",
       "      <td>This is Alfy. You're witnessing his first wate...</td>\n",
       "      <td>https://twitter.com/dog_rates/status/882268110...</td>\n",
       "      <td>13.0</td>\n",
       "      <td>10.0</td>\n",
       "      <td>Alfy</td>\n",
       "      <td>NaN</td>\n",
       "      <td>https://pbs.twimg.com/media/DD5yKdPW0AArzX8.jpg</td>\n",
       "      <td>golden retriever</td>\n",
       "      <td>0.762211</td>\n",
       "      <td>10063</td>\n",
       "      <td>40493</td>\n",
       "      <td>Original tweet</td>\n",
       "      <td>https://t.co/fYP5RlutfA</td>\n",
       "    </tr>\n",
       "    <tr>\n",
       "      <th>740</th>\n",
       "      <td>739932936087216128</td>\n",
       "      <td>2016-06-06 21:32:13</td>\n",
       "      <td>Twitter for iPhone</td>\n",
       "      <td>Say hello to Rorie. She's zen af. Just enjoyin...</td>\n",
       "      <td>https://twitter.com/dog_rates/status/739932936...</td>\n",
       "      <td>10.0</td>\n",
       "      <td>10.0</td>\n",
       "      <td>Rorie</td>\n",
       "      <td>NaN</td>\n",
       "      <td>https://pbs.twimg.com/media/CkTFEe-W0AA90m1.jpg</td>\n",
       "      <td>redbone</td>\n",
       "      <td>0.243904</td>\n",
       "      <td>1023</td>\n",
       "      <td>3876</td>\n",
       "      <td>Original tweet</td>\n",
       "      <td>https://t.co/yctnFptdQ1</td>\n",
       "    </tr>\n",
       "    <tr>\n",
       "      <th>1116</th>\n",
       "      <td>684177701129875456</td>\n",
       "      <td>2016-01-05 01:00:50</td>\n",
       "      <td>Twitter for iPhone</td>\n",
       "      <td>This is Kulet. She's very proud of the flower ...</td>\n",
       "      <td>https://twitter.com/dog_rates/status/684177701...</td>\n",
       "      <td>10.0</td>\n",
       "      <td>10.0</td>\n",
       "      <td>Kulet</td>\n",
       "      <td>NaN</td>\n",
       "      <td>https://pbs.twimg.com/media/CX6v_JOWsAE0beZ.jpg</td>\n",
       "      <td>chow</td>\n",
       "      <td>0.334783</td>\n",
       "      <td>627</td>\n",
       "      <td>1931</td>\n",
       "      <td>Original tweet</td>\n",
       "      <td>https://t.co/myUUwqJIs7</td>\n",
       "    </tr>\n",
       "    <tr>\n",
       "      <th>1395</th>\n",
       "      <td>669625907762618368</td>\n",
       "      <td>2015-11-25 21:17:12</td>\n",
       "      <td>Twitter for iPhone</td>\n",
       "      <td>This is Penny. She's having fun AND being safe...</td>\n",
       "      <td>https://twitter.com/dog_rates/status/669625907...</td>\n",
       "      <td>12.0</td>\n",
       "      <td>10.0</td>\n",
       "      <td>Penny</td>\n",
       "      <td>NaN</td>\n",
       "      <td>https://pbs.twimg.com/media/CUr9NjgU8AEpf5w.jpg</td>\n",
       "      <td>golden retriever</td>\n",
       "      <td>0.055408</td>\n",
       "      <td>1643</td>\n",
       "      <td>3247</td>\n",
       "      <td>Original tweet</td>\n",
       "      <td>https://t.co/eqeWw67oU7</td>\n",
       "    </tr>\n",
       "  </tbody>\n",
       "</table>\n",
       "</div>"
      ],
      "text/plain": [
       "                tweet_id            timestamp              source  \\\n",
       "422   797971864723324932  2016-11-14 01:18:12  Twitter for iPhone   \n",
       "44    882268110199369728  2017-07-04 16:01:23  Twitter for iPhone   \n",
       "740   739932936087216128  2016-06-06 21:32:13  Twitter for iPhone   \n",
       "1116  684177701129875456  2016-01-05 01:00:50  Twitter for iPhone   \n",
       "1395  669625907762618368  2015-11-25 21:17:12  Twitter for iPhone   \n",
       "\n",
       "                                                   text  \\\n",
       "422   Here's a helicopter pupper. He takes off at ra...   \n",
       "44    This is Alfy. You're witnessing his first wate...   \n",
       "740   Say hello to Rorie. She's zen af. Just enjoyin...   \n",
       "1116  This is Kulet. She's very proud of the flower ...   \n",
       "1395  This is Penny. She's having fun AND being safe...   \n",
       "\n",
       "                                          expanded_urls  rating_numerator  \\\n",
       "422   https://twitter.com/dog_rates/status/797971864...              12.0   \n",
       "44    https://twitter.com/dog_rates/status/882268110...              13.0   \n",
       "740   https://twitter.com/dog_rates/status/739932936...              10.0   \n",
       "1116  https://twitter.com/dog_rates/status/684177701...              10.0   \n",
       "1395  https://twitter.com/dog_rates/status/669625907...              12.0   \n",
       "\n",
       "      rating_denominator   name Dog_Type  \\\n",
       "422                 10.0   None   pupper   \n",
       "44                  10.0   Alfy      NaN   \n",
       "740                 10.0  Rorie      NaN   \n",
       "1116                10.0  Kulet      NaN   \n",
       "1395                10.0  Penny      NaN   \n",
       "\n",
       "                                              jpg_url  \\\n",
       "422   https://pbs.twimg.com/media/CxL3IWeVEAAAIE2.jpg   \n",
       "44    https://pbs.twimg.com/media/DD5yKdPW0AArzX8.jpg   \n",
       "740   https://pbs.twimg.com/media/CkTFEe-W0AA90m1.jpg   \n",
       "1116  https://pbs.twimg.com/media/CX6v_JOWsAE0beZ.jpg   \n",
       "1395  https://pbs.twimg.com/media/CUr9NjgU8AEpf5w.jpg   \n",
       "\n",
       "                               breed  confidence  retweet_count  \\\n",
       "422   American Staffordshire terrier    0.489845           3030   \n",
       "44                  golden retriever    0.762211          10063   \n",
       "740                          redbone    0.243904           1023   \n",
       "1116                            chow    0.334783            627   \n",
       "1395                golden retriever    0.055408           1643   \n",
       "\n",
       "      favorite_count retweeted_status                      url  \n",
       "422            11360   Original tweet  https://t.co/GRWPgNKt2z  \n",
       "44             40493   Original tweet  https://t.co/fYP5RlutfA  \n",
       "740             3876   Original tweet  https://t.co/yctnFptdQ1  \n",
       "1116            1931   Original tweet  https://t.co/myUUwqJIs7  \n",
       "1395            3247   Original tweet  https://t.co/eqeWw67oU7  "
      ]
     },
     "execution_count": 64,
     "metadata": {},
     "output_type": "execute_result"
    }
   ],
   "source": [
    "Analyze_Dataframe.sample(5)"
   ]
  },
  {
   "cell_type": "markdown",
   "metadata": {},
   "source": [
    "## Define - 5 Most Popular dogs and 5 most Unpopular dogs\n",
    "## Coding"
   ]
  },
  {
   "cell_type": "code",
   "execution_count": 65,
   "metadata": {},
   "outputs": [
    {
     "data": {
      "text/plain": [
       "none                              160\n",
       "golden retriever                  141\n",
       "Labrador retriever                 94\n",
       "Pembroke                           85\n",
       "Chihuahua                          67\n",
       "chow                               43\n",
       "pug                                43\n",
       "toy poodle                         38\n",
       "Samoyed                            38\n",
       "Pomeranian                         35\n",
       "malamute                           29\n",
       "cocker spaniel                     27\n",
       "Chesapeake Bay retriever           25\n",
       "French bulldog                     23\n",
       "Eskimo dog                         20\n",
       "miniature pinscher                 18\n",
       "Siberian husky                     18\n",
       "German shepherd                    18\n",
       "Cardigan                           18\n",
       "Staffordshire bullterrier          16\n",
       "Shih-Tzu                           15\n",
       "Rottweiler                         15\n",
       "beagle                             15\n",
       "basset                             15\n",
       "Maltese dog                        14\n",
       "American Staffordshire terrier     13\n",
       "Great Pyrenees                     12\n",
       "Shetland sheepdog                  12\n",
       "kelpie                             12\n",
       "kuvasz                             12\n",
       "                                 ... \n",
       "Walker hound                        3\n",
       "Brabancon griffon                   3\n",
       "cairn                               3\n",
       "bluetick                            3\n",
       "Irish water spaniel                 3\n",
       "briard                              3\n",
       "Gordon setter                       2\n",
       "keeshond                            2\n",
       "Welsh springer spaniel              2\n",
       "Afghan hound                        2\n",
       "wire-haired fox terrier             2\n",
       "Scottish deerhound                  2\n",
       "Greater Swiss Mountain dog          2\n",
       "toy terrier                         2\n",
       "Sussex spaniel                      2\n",
       "groenendael                         2\n",
       "Australian terrier                  2\n",
       "komondor                            2\n",
       "Ibizan hound                        2\n",
       "Leonberg                            2\n",
       "standard schnauzer                  1\n",
       "Irish wolfhound                     1\n",
       "clumber                             1\n",
       "Tibetan terrier                     1\n",
       "curly-coated retriever              1\n",
       "black-and-tan coonhound             1\n",
       "Appenzeller                         1\n",
       "EntleBucher                         1\n",
       "Bouvier des Flandres                1\n",
       "silky terrier                       1\n",
       "Name: breed, Length: 112, dtype: int64"
      ]
     },
     "execution_count": 65,
     "metadata": {},
     "output_type": "execute_result"
    }
   ],
   "source": [
    "Analyze_Dataframe.breed.value_counts()"
   ]
  },
  {
   "cell_type": "code",
   "execution_count": 66,
   "metadata": {},
   "outputs": [
    {
     "data": {
      "image/png": "[encoded data removed]",
      "text/plain": [
       "<matplotlib.figure.Figure at 0x7f9ad342b320>"
      ]
     },
     "metadata": {
      "needs_background": "light"
     },
     "output_type": "display_data"
    }
   ],
   "source": [
    "breed_tweets_popular = Analyze_Dataframe.breed[Analyze_Dataframe.breed != 'none'].value_counts().head()\n",
    "\n",
    "x_axis = list(breed_tweets_popular.index)\n",
    "y_axis = list(breed_tweets_popular)\n",
    "\n",
    "fig = plt.figure(figsize = (10, 5))\n",
    "\n",
    "plt.bar(x_axis, y_axis, color ='blue',\n",
    "        width = 0.2)\n",
    "plt.xlabel(\"Breed Name\",color='maroon')\n",
    "plt.ylabel(\"Tweets for Breeds\",color='maroon')\n",
    "plt.title(\"Breed <-----> NO. of Tweets\",color='maroon')\n",
    "plt.show()"
   ]
  },
  {
   "cell_type": "code",
   "execution_count": 67,
   "metadata": {},
   "outputs": [
    {
     "data": {
      "image/png": "[encoded data removed]",
      "text/plain": [
       "<matplotlib.figure.Figure at 0x7f9ad33e27b8>"
      ]
     },
     "metadata": {
      "needs_background": "light"
     },
     "output_type": "display_data"
    }
   ],
   "source": [
    "breed_tweets_unpopular = Analyze_Dataframe.breed[Analyze_Dataframe.breed != 'none'].value_counts().tail()\n",
    "\n",
    "x_axis = list(breed_tweets_unpopular.index)\n",
    "y_axis = list(breed_tweets_unpopular)\n",
    "\n",
    "fig = plt.figure(figsize = (10, 5))\n",
    "\n",
    "plt.bar(x_axis, y_axis, color ='blue', width = 0.2)\n",
    "plt.xlabel(\"Breed Name\",color='maroon')\n",
    "plt.ylabel(\"Tweets for Breeds\",color='maroon')\n",
    "plt.title(\"Breed <-----> NO. of Tweets\",color='maroon')\n",
    "plt.show()"
   ]
  },
  {
   "cell_type": "markdown",
   "metadata": {},
   "source": [
    "## Testing"
   ]
  },
  {
   "cell_type": "markdown",
   "metadata": {},
   "source": [
    "1. Most Popular Dogs according to the tweet are Golden Retriever, Labrador Retriever, Pembroke, Chihuahua and pug\n",
    "2. Most Un-Popular Dogs according to the tweet are Bouvier des Flandres, Isish wolfhound, Scotch terrier, dumber and silky terrier with same tweets of 1."
   ]
  },
  {
   "cell_type": "markdown",
   "metadata": {},
   "source": [
    "## Define - Tweets for WeRateDogs coming from different channels\n",
    "## Coding"
   ]
  },
  {
   "cell_type": "code",
   "execution_count": 68,
   "metadata": {},
   "outputs": [
    {
     "data": {
      "text/plain": [
       "Twitter for iPhone    1464\n",
       "Twitter Web Client      16\n",
       "TweetDeck                8\n",
       "Name: source, dtype: int64"
      ]
     },
     "execution_count": 68,
     "metadata": {},
     "output_type": "execute_result"
    }
   ],
   "source": [
    "Analyze_Dataframe.source.value_counts()"
   ]
  },
  {
   "cell_type": "code",
   "execution_count": 69,
   "metadata": {},
   "outputs": [
    {
     "data": {
      "image/png": "[encoded data removed]",
      "text/plain": [
       "<matplotlib.figure.Figure at 0x7f9ad33e2940>"
      ]
     },
     "metadata": {
      "needs_background": "light"
     },
     "output_type": "display_data"
    }
   ],
   "source": [
    "tweet_source = Analyze_Dataframe.source.value_counts()\n",
    "x_axis = list(tweet_source.index)\n",
    "y_axis = list(tweet_source)\n",
    "\n",
    "fig = plt.figure(figsize = (10, 5))\n",
    "\n",
    "plt.bar(x_axis, y_axis, color ='blue', width = 0.2)\n",
    "plt.xlabel(\"Source\",color='maroon')\n",
    "plt.ylabel(\"No. of Tweets\",color='maroon')\n",
    "plt.title(\"Source <-----> NO. of Tweets\",color='maroon')\n",
    "plt.show()"
   ]
  },
  {
   "cell_type": "markdown",
   "metadata": {},
   "source": [
    "## Testing"
   ]
  },
  {
   "cell_type": "markdown",
   "metadata": {},
   "source": [
    "1. Twitter for iPhone is by largest contributor of tweets to tweeter handle WeRateDogs\n",
    "2. Then comes Twitter Web Client and TweetDeck"
   ]
  },
  {
   "cell_type": "markdown",
   "metadata": {},
   "source": [
    "## Define - Top most liked tweets and retweets and it belongs to which Dog\n",
    "## Coding"
   ]
  },
  {
   "cell_type": "code",
   "execution_count": 70,
   "metadata": {},
   "outputs": [
    {
     "name": "stdout",
     "output_type": "stream",
     "text": [
      "               tweet_id               breed                      url\n",
      "720  744234799360020481  Labrador retriever  https://t.co/7wE9LTEXC4\n",
      "               tweet_id               breed                      url\n",
      "720  744234799360020481  Labrador retriever  https://t.co/7wE9LTEXC4\n"
     ]
    }
   ],
   "source": [
    "print(Analyze_Dataframe[['tweet_id','breed','url']][Analyze_Dataframe.favorite_count == Analyze_Dataframe.favorite_count.max()])\n",
    "print(Analyze_Dataframe[['tweet_id','breed','url']][Analyze_Dataframe.retweet_count == Analyze_Dataframe.retweet_count.max()])"
   ]
  },
  {
   "cell_type": "markdown",
   "metadata": {},
   "source": [
    "## Testing"
   ]
  },
  {
   "cell_type": "markdown",
   "metadata": {},
   "source": [
    "1. Most liked tweet is 744234799360020481 in Twitter handle WeRateDogs who is a breed of 'Labrador retriever'. One can visit link to see https://t.co/7wE9LTEXC4\n",
    "2. Also, it has got maximum number of tweets\n",
    "3. Also, it is not of the same breed (Golden Retriever) who is the most popular breed within this Twitter handle"
   ]
  },
  {
   "cell_type": "markdown",
   "metadata": {},
   "source": [
    "## Define - Which is the most popular dog type predicted through Predictions file provided\n",
    "## Coding"
   ]
  },
  {
   "cell_type": "code",
   "execution_count": 71,
   "metadata": {},
   "outputs": [
    {
     "data": {
      "image/png": "[encoded data removed]",
      "text/plain": [
       "<matplotlib.figure.Figure at 0x7f9ad332cd30>"
      ]
     },
     "metadata": {
      "needs_background": "light"
     },
     "output_type": "display_data"
    }
   ],
   "source": [
    "Dog_Type_count = Analyze_Dataframe.Dog_Type[Analyze_Dataframe.Dog_Type != 'none'].value_counts()\n",
    "x_axis = list(Dog_Type_count.index)\n",
    "y_axis = list(Dog_Type_count)\n",
    "\n",
    "fig = plt.figure(figsize = (10, 5))\n",
    "\n",
    "plt.bar(x_axis, y_axis, color ='blue', width = 0.2)\n",
    "plt.xlabel(\"Dog_type\",color='maroon')\n",
    "plt.ylabel(\"No. of Tweets\",color='maroon')\n",
    "plt.title(\"Popular Dog Type\",color='maroon')\n",
    "plt.show()"
   ]
  },
  {
   "cell_type": "markdown",
   "metadata": {},
   "source": [
    "## Testing"
   ]
  },
  {
   "cell_type": "markdown",
   "metadata": {},
   "source": [
    "Most popular Dog Type is Pupper, then comes doggo, puppo and floofer. There are few multiple values as well for each tweets"
   ]
  }
 ],
 "metadata": {
  "kernelspec": {
   "display_name": "Python 3",
   "language": "python",
   "name": "python3"
  },
  "language_info": {
   "codemirror_mode": {
    "name": "ipython",
    "version": 3
   },
   "file_extension": ".py",
   "mimetype": "text/x-python",
   "name": "python",
   "nbconvert_exporter": "python",
   "pygments_lexer": "ipython3",
   "version": "3.6.3"
  }
 },
 "nbformat": 4,
 "nbformat_minor": 2
}
